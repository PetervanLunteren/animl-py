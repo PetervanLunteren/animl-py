{
 "cells": [
  {
   "cell_type": "markdown",
   "id": "ae0efa5f",
   "metadata": {},
   "source": [
    "<b> First, check to make sure MegaDetector is available.\n",
    "<br> CameraTraps, ai4eutils, and yolo5 must be included in the PYTHONPATH"
   ]
  },
  {
   "cell_type": "code",
   "execution_count": 1,
   "id": "6f6df57f",
   "metadata": {
    "scrolled": true
   },
   "outputs": [
    {
     "data": {
      "text/plain": [
       "['/home/kyra/animl-py/src/animl',\n",
       " '/home/kyra/animl-py/src/animl',\n",
       " '/home/kyra/git/MegaDetector',\n",
       " '/home/kyra/git/yolov5',\n",
       " '/home/kyra/anaconda3/lib/python311.zip',\n",
       " '/home/kyra/anaconda3/lib/python3.11',\n",
       " '/home/kyra/anaconda3/lib/python3.11/lib-dynload',\n",
       " '',\n",
       " '/home/kyra/anaconda3/lib/python3.11/site-packages']"
      ]
     },
     "execution_count": 1,
     "metadata": {},
     "output_type": "execute_result"
    }
   ],
   "source": [
    "import pandas as pd\n",
    "import sys\n",
    "sys.path\n",
    "# export PYTHONPATH=\"$PYTHONPATH:$HOME/git/MegaDetector:$HOME/git/yolov5\""
   ]
  },
  {
   "cell_type": "markdown",
   "id": "f35b91e6",
   "metadata": {},
   "source": [
    "<b> Find file paths for the image directory of interest, both model files, and the classifier class list."
   ]
  },
  {
   "cell_type": "code",
   "execution_count": 2,
   "id": "a7729201",
   "metadata": {},
   "outputs": [],
   "source": [
    "imagedir = \"/home/kyra/animl-py/examples/Peru/S90/SDZG 2\"\n",
    "model_file = \"/mnt/machinelearning/megaDetector/md_v5b.0.0.pt\"\n",
    "class_model = \"/mnt/machinelearning/Models/Southwest/2022/EfficientNetB5_456_Unfrozen_05_0.26_0.92.h5\"\n",
    "classes = \"/mnt/machinelearning/Models/Southwest/2022/classes.txt\""
   ]
  },
  {
   "cell_type": "markdown",
   "id": "1c77df57",
   "metadata": {},
   "source": [
    "<b> Create a working directory and build the file manifest from the image directory."
   ]
  },
  {
   "cell_type": "code",
   "execution_count": 3,
   "id": "a01ebce3",
   "metadata": {},
   "outputs": [],
   "source": [
    "import fileManagement\n",
    "workingdir = fileManagement.WorkingDirectory(imagedir)"
   ]
  },
  {
   "cell_type": "code",
   "execution_count": 4,
   "id": "2d1ff898",
   "metadata": {
    "scrolled": false
   },
   "outputs": [
    {
     "name": "stdout",
     "output_type": "stream",
     "text": [
      "Output file already exists and was last modified 2023-09-21 14:46:30.969053,                  would you like to load it? y/n: y\n"
     ]
    }
   ],
   "source": [
    "files = fileManagement.build_file_manifest(imagedir, out_file = workingdir.filemanifest)"
   ]
  },
  {
   "cell_type": "code",
   "execution_count": 5,
   "id": "ffd3401f",
   "metadata": {},
   "outputs": [
    {
     "data": {
      "text/html": [
       "<div>\n",
       "<style scoped>\n",
       "    .dataframe tbody tr th:only-of-type {\n",
       "        vertical-align: middle;\n",
       "    }\n",
       "\n",
       "    .dataframe tbody tr th {\n",
       "        vertical-align: top;\n",
       "    }\n",
       "\n",
       "    .dataframe thead th {\n",
       "        text-align: right;\n",
       "    }\n",
       "</style>\n",
       "<table border=\"1\" class=\"dataframe\">\n",
       "  <thead>\n",
       "    <tr style=\"text-align: right;\">\n",
       "      <th></th>\n",
       "      <th>FilePath</th>\n",
       "      <th>FileName</th>\n",
       "      <th>FileModifyDate</th>\n",
       "    </tr>\n",
       "  </thead>\n",
       "  <tbody>\n",
       "    <tr>\n",
       "      <th>0</th>\n",
       "      <td>/home/kyra/animl-py/examples/Peru/S90/SDZG 2/E...</td>\n",
       "      <td>EK000026.JPG</td>\n",
       "      <td>2022-08-25 11:50:17</td>\n",
       "    </tr>\n",
       "    <tr>\n",
       "      <th>1</th>\n",
       "      <td>/home/kyra/animl-py/examples/Peru/S90/SDZG 2/E...</td>\n",
       "      <td>EK000022.JPG</td>\n",
       "      <td>2022-08-25 11:50:17</td>\n",
       "    </tr>\n",
       "    <tr>\n",
       "      <th>2</th>\n",
       "      <td>/home/kyra/animl-py/examples/Peru/S90/SDZG 2/E...</td>\n",
       "      <td>EK000010.JPG</td>\n",
       "      <td>2022-08-25 11:50:17</td>\n",
       "    </tr>\n",
       "    <tr>\n",
       "      <th>3</th>\n",
       "      <td>/home/kyra/animl-py/examples/Peru/S90/SDZG 2/E...</td>\n",
       "      <td>EK000036.JPG</td>\n",
       "      <td>2022-08-25 11:50:17</td>\n",
       "    </tr>\n",
       "    <tr>\n",
       "      <th>4</th>\n",
       "      <td>/home/kyra/animl-py/examples/Peru/S90/SDZG 2/E...</td>\n",
       "      <td>EK000072.JPG</td>\n",
       "      <td>2022-08-25 11:50:17</td>\n",
       "    </tr>\n",
       "    <tr>\n",
       "      <th>...</th>\n",
       "      <td>...</td>\n",
       "      <td>...</td>\n",
       "      <td>...</td>\n",
       "    </tr>\n",
       "    <tr>\n",
       "      <th>63</th>\n",
       "      <td>/home/kyra/animl-py/examples/Peru/S90/SDZG 2/E...</td>\n",
       "      <td>EK000039.AVI</td>\n",
       "      <td>2022-08-25 11:50:17</td>\n",
       "    </tr>\n",
       "    <tr>\n",
       "      <th>64</th>\n",
       "      <td>/home/kyra/animl-py/examples/Peru/S90/SDZG 2/E...</td>\n",
       "      <td>EK000032.JPG</td>\n",
       "      <td>2022-08-25 11:50:17</td>\n",
       "    </tr>\n",
       "    <tr>\n",
       "      <th>65</th>\n",
       "      <td>/home/kyra/animl-py/examples/Peru/S90/SDZG 2/E...</td>\n",
       "      <td>EK000046.JPG</td>\n",
       "      <td>2022-08-25 11:50:17</td>\n",
       "    </tr>\n",
       "    <tr>\n",
       "      <th>66</th>\n",
       "      <td>/home/kyra/animl-py/examples/Peru/S90/SDZG 2/E...</td>\n",
       "      <td>EK000030.JPG</td>\n",
       "      <td>2022-08-25 11:50:17</td>\n",
       "    </tr>\n",
       "    <tr>\n",
       "      <th>67</th>\n",
       "      <td>/home/kyra/animl-py/examples/Peru/S90/SDZG 2/E...</td>\n",
       "      <td>EK000019.AVI</td>\n",
       "      <td>2022-08-25 11:50:17</td>\n",
       "    </tr>\n",
       "  </tbody>\n",
       "</table>\n",
       "<p>68 rows × 3 columns</p>\n",
       "</div>"
      ],
      "text/plain": [
       "                                             FilePath      FileName  \\\n",
       "0   /home/kyra/animl-py/examples/Peru/S90/SDZG 2/E...  EK000026.JPG   \n",
       "1   /home/kyra/animl-py/examples/Peru/S90/SDZG 2/E...  EK000022.JPG   \n",
       "2   /home/kyra/animl-py/examples/Peru/S90/SDZG 2/E...  EK000010.JPG   \n",
       "3   /home/kyra/animl-py/examples/Peru/S90/SDZG 2/E...  EK000036.JPG   \n",
       "4   /home/kyra/animl-py/examples/Peru/S90/SDZG 2/E...  EK000072.JPG   \n",
       "..                                                ...           ...   \n",
       "63  /home/kyra/animl-py/examples/Peru/S90/SDZG 2/E...  EK000039.AVI   \n",
       "64  /home/kyra/animl-py/examples/Peru/S90/SDZG 2/E...  EK000032.JPG   \n",
       "65  /home/kyra/animl-py/examples/Peru/S90/SDZG 2/E...  EK000046.JPG   \n",
       "66  /home/kyra/animl-py/examples/Peru/S90/SDZG 2/E...  EK000030.JPG   \n",
       "67  /home/kyra/animl-py/examples/Peru/S90/SDZG 2/E...  EK000019.AVI   \n",
       "\n",
       "         FileModifyDate  \n",
       "0   2022-08-25 11:50:17  \n",
       "1   2022-08-25 11:50:17  \n",
       "2   2022-08-25 11:50:17  \n",
       "3   2022-08-25 11:50:17  \n",
       "4   2022-08-25 11:50:17  \n",
       "..                  ...  \n",
       "63  2022-08-25 11:50:17  \n",
       "64  2022-08-25 11:50:17  \n",
       "65  2022-08-25 11:50:17  \n",
       "66  2022-08-25 11:50:17  \n",
       "67  2022-08-25 11:50:17  \n",
       "\n",
       "[68 rows x 3 columns]"
      ]
     },
     "execution_count": 5,
     "metadata": {},
     "output_type": "execute_result"
    }
   ],
   "source": [
    "files"
   ]
  },
  {
   "cell_type": "markdown",
   "id": "6d824085",
   "metadata": {},
   "source": [
    "<b> If there are videos, save out individual frames to pass through models. "
   ]
  },
  {
   "cell_type": "code",
   "execution_count": 5,
   "id": "a486eef9",
   "metadata": {
    "scrolled": false
   },
   "outputs": [
    {
     "name": "stdout",
     "output_type": "stream",
     "text": [
      "Output file already exists and was last modified 2023-09-21 14:46:30.969053,                  would you like to load it? y/n: y\n"
     ]
    }
   ],
   "source": [
    "import videoProcessing\n",
    "allframes = videoProcessing.images_from_videos(files, out_dir=workingdir.vidfdir, \n",
    "                                               out_file=workingdir.imageframes, parallel = True, frames=2)"
   ]
  },
  {
   "cell_type": "code",
   "execution_count": 18,
   "id": "1989a9f7",
   "metadata": {},
   "outputs": [
    {
     "name": "stdout",
     "output_type": "stream",
     "text": [
      "Collecting torchvision\n",
      "  Downloading torchvision-0.15.2-cp311-cp311-manylinux1_x86_64.whl (6.0 MB)\n",
      "\u001b[2K     \u001b[38;2;114;156;31m━━━━━━━━━━━━━━━━━━━━━━━━━━━━━━━━━━━━━━━━\u001b[0m \u001b[32m6.0/6.0 MB\u001b[0m \u001b[31m26.9 MB/s\u001b[0m eta \u001b[36m0:00:00\u001b[0mm eta \u001b[36m0:00:01\u001b[0m[36m0:00:01\u001b[0m\n",
      "\u001b[?25hRequirement already satisfied: numpy in /home/kyra/anaconda3/lib/python3.11/site-packages (from torchvision) (1.24.3)\n",
      "Requirement already satisfied: requests in /home/kyra/anaconda3/lib/python3.11/site-packages (from torchvision) (2.31.0)\n",
      "Requirement already satisfied: torch==2.0.1 in /home/kyra/anaconda3/lib/python3.11/site-packages (from torchvision) (2.0.1)\n",
      "Requirement already satisfied: pillow!=8.3.*,>=5.3.0 in /home/kyra/anaconda3/lib/python3.11/site-packages (from torchvision) (9.4.0)\n",
      "Requirement already satisfied: filelock in /home/kyra/anaconda3/lib/python3.11/site-packages (from torch==2.0.1->torchvision) (3.9.0)\n",
      "Requirement already satisfied: typing-extensions in /home/kyra/anaconda3/lib/python3.11/site-packages (from torch==2.0.1->torchvision) (4.7.1)\n",
      "Requirement already satisfied: sympy in /home/kyra/anaconda3/lib/python3.11/site-packages (from torch==2.0.1->torchvision) (1.11.1)\n",
      "Requirement already satisfied: networkx in /home/kyra/anaconda3/lib/python3.11/site-packages (from torch==2.0.1->torchvision) (3.1)\n",
      "Requirement already satisfied: jinja2 in /home/kyra/anaconda3/lib/python3.11/site-packages (from torch==2.0.1->torchvision) (3.1.2)\n",
      "Requirement already satisfied: charset-normalizer<4,>=2 in /home/kyra/anaconda3/lib/python3.11/site-packages (from requests->torchvision) (2.0.4)\n",
      "Requirement already satisfied: idna<4,>=2.5 in /home/kyra/anaconda3/lib/python3.11/site-packages (from requests->torchvision) (3.4)\n",
      "Requirement already satisfied: urllib3<3,>=1.21.1 in /home/kyra/anaconda3/lib/python3.11/site-packages (from requests->torchvision) (1.26.16)\n",
      "Requirement already satisfied: certifi>=2017.4.17 in /home/kyra/anaconda3/lib/python3.11/site-packages (from requests->torchvision) (2023.7.22)\n",
      "Requirement already satisfied: MarkupSafe>=2.0 in /home/kyra/anaconda3/lib/python3.11/site-packages (from jinja2->torch==2.0.1->torchvision) (2.1.1)\n",
      "Requirement already satisfied: mpmath>=0.19 in /home/kyra/anaconda3/lib/python3.11/site-packages (from sympy->torch==2.0.1->torchvision) (1.3.0)\n",
      "Installing collected packages: torchvision\n",
      "Successfully installed torchvision-0.15.2\n"
     ]
    }
   ],
   "source": [
    "!pip install torchvision"
   ]
  },
  {
   "cell_type": "markdown",
   "id": "a00170b3",
   "metadata": {},
   "source": [
    "<b> Run all images and video frames through MegaDetector"
   ]
  },
  {
   "cell_type": "code",
   "execution_count": 6,
   "id": "5fc874ac",
   "metadata": {
    "scrolled": false
   },
   "outputs": [],
   "source": [
    "import detectMD"
   ]
  },
  {
   "cell_type": "code",
   "execution_count": 7,
   "id": "12f41066",
   "metadata": {
    "scrolled": true
   },
   "outputs": [
    {
     "name": "stdout",
     "output_type": "stream",
     "text": [
      "PyTorch reports 0 available CUDA devices\n",
      "GPU available: False\n",
      "Using PyTorch version 2.0.1\n"
     ]
    },
    {
     "name": "stderr",
     "output_type": "stream",
     "text": [
      "/home/kyra/anaconda3/lib/python3.11/site-packages/torchvision/io/image.py:13: UserWarning: Failed to load image Python extension: 'libc10_cuda.so: cannot open shared object file: No such file or directory'If you don't plan on using image functionality from `torchvision.io`, you can ignore this warning. Otherwise, there might be something wrong with your environment. Did you have `libjpeg` or `libpng` installed before building `torchvision` from source?\n",
      "  warn(\n",
      "Fusing layers... \n",
      "Model summary: 574 layers, 139990096 parameters, 0 gradients\n"
     ]
    },
    {
     "name": "stdout",
     "output_type": "stream",
     "text": [
      "Loaded model in 5.71 seconds\n"
     ]
    }
   ],
   "source": [
    "detector = detectMD.load_MD_model(model_file)"
   ]
  },
  {
   "cell_type": "code",
   "execution_count": 8,
   "id": "49db30e5",
   "metadata": {},
   "outputs": [
    {
     "name": "stderr",
     "output_type": "stream",
     "text": [
      "  1%|▌                                           | 1/85 [00:03<04:43,  3.38s/it]"
     ]
    },
    {
     "name": "stdout",
     "output_type": "stream",
     "text": [
      "PTDetector: image /home/kyra/animl-py/examples/Peru/S90/SDZG 2/EK000026.JPG failed during inference: Couldn't load custom C++ ops. This can happen if your PyTorch and torchvision versions are incompatible, or if you had errors while compiling torchvision from source. For further information on the compatible versions, check https://github.com/pytorch/vision#installation for the compatibility matrix. Please check your PyTorch version with torch.__version__ and your torchvision version with torchvision.__version__ and verify if they are compatible, and if not please reinstall torchvision so that it matches your PyTorch install.\n",
      "\n"
     ]
    },
    {
     "name": "stderr",
     "output_type": "stream",
     "text": [
      "\r",
      "  2%|█                                           | 2/85 [00:06<04:21,  3.15s/it]"
     ]
    },
    {
     "name": "stdout",
     "output_type": "stream",
     "text": [
      "PTDetector: image /home/kyra/animl-py/examples/Peru/S90/SDZG 2/EK000022.JPG failed during inference: Couldn't load custom C++ ops. This can happen if your PyTorch and torchvision versions are incompatible, or if you had errors while compiling torchvision from source. For further information on the compatible versions, check https://github.com/pytorch/vision#installation for the compatibility matrix. Please check your PyTorch version with torch.__version__ and your torchvision version with torchvision.__version__ and verify if they are compatible, and if not please reinstall torchvision so that it matches your PyTorch install.\n",
      "\n"
     ]
    },
    {
     "name": "stderr",
     "output_type": "stream",
     "text": [
      "\r",
      "  4%|█▌                                          | 3/85 [00:10<04:49,  3.53s/it]"
     ]
    },
    {
     "name": "stdout",
     "output_type": "stream",
     "text": [
      "PTDetector: image /home/kyra/animl-py/examples/Peru/S90/SDZG 2/EK000010.JPG failed during inference: Couldn't load custom C++ ops. This can happen if your PyTorch and torchvision versions are incompatible, or if you had errors while compiling torchvision from source. For further information on the compatible versions, check https://github.com/pytorch/vision#installation for the compatibility matrix. Please check your PyTorch version with torch.__version__ and your torchvision version with torchvision.__version__ and verify if they are compatible, and if not please reinstall torchvision so that it matches your PyTorch install.\n",
      "\n"
     ]
    },
    {
     "name": "stderr",
     "output_type": "stream",
     "text": [
      "\r",
      "  5%|██                                          | 4/85 [00:14<04:53,  3.62s/it]"
     ]
    },
    {
     "name": "stdout",
     "output_type": "stream",
     "text": [
      "PTDetector: image /home/kyra/animl-py/examples/Peru/S90/SDZG 2/EK000036.JPG failed during inference: Couldn't load custom C++ ops. This can happen if your PyTorch and torchvision versions are incompatible, or if you had errors while compiling torchvision from source. For further information on the compatible versions, check https://github.com/pytorch/vision#installation for the compatibility matrix. Please check your PyTorch version with torch.__version__ and your torchvision version with torchvision.__version__ and verify if they are compatible, and if not please reinstall torchvision so that it matches your PyTorch install.\n",
      "\n"
     ]
    },
    {
     "name": "stderr",
     "output_type": "stream",
     "text": [
      "\r",
      "  6%|██▌                                         | 5/85 [00:17<04:32,  3.41s/it]"
     ]
    },
    {
     "name": "stdout",
     "output_type": "stream",
     "text": [
      "PTDetector: image /home/kyra/animl-py/examples/Peru/S90/SDZG 2/EK000072.JPG failed during inference: Couldn't load custom C++ ops. This can happen if your PyTorch and torchvision versions are incompatible, or if you had errors while compiling torchvision from source. For further information on the compatible versions, check https://github.com/pytorch/vision#installation for the compatibility matrix. Please check your PyTorch version with torch.__version__ and your torchvision version with torchvision.__version__ and verify if they are compatible, and if not please reinstall torchvision so that it matches your PyTorch install.\n",
      "\n"
     ]
    },
    {
     "name": "stderr",
     "output_type": "stream",
     "text": [
      "\r",
      "  7%|███                                         | 6/85 [00:20<04:28,  3.40s/it]"
     ]
    },
    {
     "name": "stdout",
     "output_type": "stream",
     "text": [
      "PTDetector: image /home/kyra/animl-py/examples/Peru/S90/SDZG 2/EK000068.JPG failed during inference: Couldn't load custom C++ ops. This can happen if your PyTorch and torchvision versions are incompatible, or if you had errors while compiling torchvision from source. For further information on the compatible versions, check https://github.com/pytorch/vision#installation for the compatibility matrix. Please check your PyTorch version with torch.__version__ and your torchvision version with torchvision.__version__ and verify if they are compatible, and if not please reinstall torchvision so that it matches your PyTorch install.\n",
      "\n"
     ]
    },
    {
     "name": "stderr",
     "output_type": "stream",
     "text": [
      "\r",
      "  8%|███▌                                        | 7/85 [00:23<04:15,  3.28s/it]"
     ]
    },
    {
     "name": "stdout",
     "output_type": "stream",
     "text": [
      "PTDetector: image /home/kyra/animl-py/examples/Peru/S90/SDZG 2/EK000073.JPG failed during inference: Couldn't load custom C++ ops. This can happen if your PyTorch and torchvision versions are incompatible, or if you had errors while compiling torchvision from source. For further information on the compatible versions, check https://github.com/pytorch/vision#installation for the compatibility matrix. Please check your PyTorch version with torch.__version__ and your torchvision version with torchvision.__version__ and verify if they are compatible, and if not please reinstall torchvision so that it matches your PyTorch install.\n",
      "\n"
     ]
    },
    {
     "name": "stderr",
     "output_type": "stream",
     "text": [
      "\r",
      "  9%|████▏                                       | 8/85 [00:26<04:12,  3.28s/it]"
     ]
    },
    {
     "name": "stdout",
     "output_type": "stream",
     "text": [
      "PTDetector: image /home/kyra/animl-py/examples/Peru/S90/SDZG 2/EK000038.JPG failed during inference: Couldn't load custom C++ ops. This can happen if your PyTorch and torchvision versions are incompatible, or if you had errors while compiling torchvision from source. For further information on the compatible versions, check https://github.com/pytorch/vision#installation for the compatibility matrix. Please check your PyTorch version with torch.__version__ and your torchvision version with torchvision.__version__ and verify if they are compatible, and if not please reinstall torchvision so that it matches your PyTorch install.\n",
      "\n"
     ]
    },
    {
     "name": "stderr",
     "output_type": "stream",
     "text": [
      "\r",
      " 11%|████▋                                       | 9/85 [00:29<04:01,  3.18s/it]"
     ]
    },
    {
     "name": "stdout",
     "output_type": "stream",
     "text": [
      "PTDetector: image /home/kyra/animl-py/examples/Peru/S90/SDZG 2/EK000017.JPG failed during inference: Couldn't load custom C++ ops. This can happen if your PyTorch and torchvision versions are incompatible, or if you had errors while compiling torchvision from source. For further information on the compatible versions, check https://github.com/pytorch/vision#installation for the compatibility matrix. Please check your PyTorch version with torch.__version__ and your torchvision version with torchvision.__version__ and verify if they are compatible, and if not please reinstall torchvision so that it matches your PyTorch install.\n",
      "\n"
     ]
    },
    {
     "name": "stderr",
     "output_type": "stream",
     "text": [
      "\r",
      " 12%|█████                                      | 10/85 [00:32<03:53,  3.12s/it]"
     ]
    },
    {
     "name": "stdout",
     "output_type": "stream",
     "text": [
      "PTDetector: image /home/kyra/animl-py/examples/Peru/S90/SDZG 2/EK000070.JPG failed during inference: Couldn't load custom C++ ops. This can happen if your PyTorch and torchvision versions are incompatible, or if you had errors while compiling torchvision from source. For further information on the compatible versions, check https://github.com/pytorch/vision#installation for the compatibility matrix. Please check your PyTorch version with torch.__version__ and your torchvision version with torchvision.__version__ and verify if they are compatible, and if not please reinstall torchvision so that it matches your PyTorch install.\n",
      "\n"
     ]
    },
    {
     "name": "stderr",
     "output_type": "stream",
     "text": [
      "\r",
      " 13%|█████▌                                     | 11/85 [00:35<03:50,  3.12s/it]"
     ]
    },
    {
     "name": "stdout",
     "output_type": "stream",
     "text": [
      "PTDetector: image /home/kyra/animl-py/examples/Peru/S90/SDZG 2/EK000025.JPG failed during inference: Couldn't load custom C++ ops. This can happen if your PyTorch and torchvision versions are incompatible, or if you had errors while compiling torchvision from source. For further information on the compatible versions, check https://github.com/pytorch/vision#installation for the compatibility matrix. Please check your PyTorch version with torch.__version__ and your torchvision version with torchvision.__version__ and verify if they are compatible, and if not please reinstall torchvision so that it matches your PyTorch install.\n",
      "\n"
     ]
    },
    {
     "name": "stderr",
     "output_type": "stream",
     "text": [
      " 15%|██████▌                                    | 13/85 [00:43<03:57,  3.29s/it]"
     ]
    },
    {
     "name": "stdout",
     "output_type": "stream",
     "text": [
      "PTDetector: image /home/kyra/animl-py/examples/Peru/S90/SDZG 2/EK000020.JPG failed during inference: Couldn't load custom C++ ops. This can happen if your PyTorch and torchvision versions are incompatible, or if you had errors while compiling torchvision from source. For further information on the compatible versions, check https://github.com/pytorch/vision#installation for the compatibility matrix. Please check your PyTorch version with torch.__version__ and your torchvision version with torchvision.__version__ and verify if they are compatible, and if not please reinstall torchvision so that it matches your PyTorch install.\n",
      "\n"
     ]
    },
    {
     "name": "stderr",
     "output_type": "stream",
     "text": [
      "\r",
      " 16%|███████                                    | 14/85 [00:47<04:11,  3.54s/it]"
     ]
    },
    {
     "name": "stdout",
     "output_type": "stream",
     "text": [
      "PTDetector: image /home/kyra/animl-py/examples/Peru/S90/SDZG 2/EK000021.JPG failed during inference: Couldn't load custom C++ ops. This can happen if your PyTorch and torchvision versions are incompatible, or if you had errors while compiling torchvision from source. For further information on the compatible versions, check https://github.com/pytorch/vision#installation for the compatibility matrix. Please check your PyTorch version with torch.__version__ and your torchvision version with torchvision.__version__ and verify if they are compatible, and if not please reinstall torchvision so that it matches your PyTorch install.\n",
      "\n"
     ]
    },
    {
     "name": "stderr",
     "output_type": "stream",
     "text": [
      " 19%|████████                                   | 16/85 [00:54<04:08,  3.60s/it]"
     ]
    },
    {
     "name": "stdout",
     "output_type": "stream",
     "text": [
      "PTDetector: image /home/kyra/animl-py/examples/Peru/S90/SDZG 2/EK000057.JPG failed during inference: Couldn't load custom C++ ops. This can happen if your PyTorch and torchvision versions are incompatible, or if you had errors while compiling torchvision from source. For further information on the compatible versions, check https://github.com/pytorch/vision#installation for the compatibility matrix. Please check your PyTorch version with torch.__version__ and your torchvision version with torchvision.__version__ and verify if they are compatible, and if not please reinstall torchvision so that it matches your PyTorch install.\n",
      "\n"
     ]
    },
    {
     "name": "stderr",
     "output_type": "stream",
     "text": [
      "\r",
      " 20%|████████▌                                  | 17/85 [00:58<04:10,  3.69s/it]"
     ]
    },
    {
     "name": "stdout",
     "output_type": "stream",
     "text": [
      "PTDetector: image /home/kyra/animl-py/examples/Peru/S90/SDZG 2/EK000034.JPG failed during inference: Couldn't load custom C++ ops. This can happen if your PyTorch and torchvision versions are incompatible, or if you had errors while compiling torchvision from source. For further information on the compatible versions, check https://github.com/pytorch/vision#installation for the compatibility matrix. Please check your PyTorch version with torch.__version__ and your torchvision version with torchvision.__version__ and verify if they are compatible, and if not please reinstall torchvision so that it matches your PyTorch install.\n",
      "\n"
     ]
    },
    {
     "name": "stderr",
     "output_type": "stream",
     "text": [
      "\r",
      " 21%|█████████                                  | 18/85 [01:02<04:15,  3.81s/it]"
     ]
    },
    {
     "name": "stdout",
     "output_type": "stream",
     "text": [
      "PTDetector: image /home/kyra/animl-py/examples/Peru/S90/SDZG 2/EK000016.JPG failed during inference: Couldn't load custom C++ ops. This can happen if your PyTorch and torchvision versions are incompatible, or if you had errors while compiling torchvision from source. For further information on the compatible versions, check https://github.com/pytorch/vision#installation for the compatibility matrix. Please check your PyTorch version with torch.__version__ and your torchvision version with torchvision.__version__ and verify if they are compatible, and if not please reinstall torchvision so that it matches your PyTorch install.\n",
      "\n"
     ]
    },
    {
     "name": "stderr",
     "output_type": "stream",
     "text": [
      "\r",
      " 22%|█████████▌                                 | 19/85 [01:07<04:37,  4.21s/it]"
     ]
    },
    {
     "name": "stdout",
     "output_type": "stream",
     "text": [
      "PTDetector: image /home/kyra/animl-py/examples/Peru/S90/SDZG 2/EK000060.JPG failed during inference: Couldn't load custom C++ ops. This can happen if your PyTorch and torchvision versions are incompatible, or if you had errors while compiling torchvision from source. For further information on the compatible versions, check https://github.com/pytorch/vision#installation for the compatibility matrix. Please check your PyTorch version with torch.__version__ and your torchvision version with torchvision.__version__ and verify if they are compatible, and if not please reinstall torchvision so that it matches your PyTorch install.\n",
      "\n"
     ]
    },
    {
     "name": "stderr",
     "output_type": "stream",
     "text": [
      "\r",
      " 24%|██████████                                 | 20/85 [01:10<04:10,  3.86s/it]"
     ]
    },
    {
     "name": "stdout",
     "output_type": "stream",
     "text": [
      "PTDetector: image /home/kyra/animl-py/examples/Peru/S90/SDZG 2/EK000066.JPG failed during inference: Couldn't load custom C++ ops. This can happen if your PyTorch and torchvision versions are incompatible, or if you had errors while compiling torchvision from source. For further information on the compatible versions, check https://github.com/pytorch/vision#installation for the compatibility matrix. Please check your PyTorch version with torch.__version__ and your torchvision version with torchvision.__version__ and verify if they are compatible, and if not please reinstall torchvision so that it matches your PyTorch install.\n",
      "\n"
     ]
    },
    {
     "name": "stderr",
     "output_type": "stream",
     "text": [
      "\r",
      " 25%|██████████▌                                | 21/85 [01:13<03:49,  3.58s/it]"
     ]
    },
    {
     "name": "stdout",
     "output_type": "stream",
     "text": [
      "PTDetector: image /home/kyra/animl-py/examples/Peru/S90/SDZG 2/EK000056.JPG failed during inference: Couldn't load custom C++ ops. This can happen if your PyTorch and torchvision versions are incompatible, or if you had errors while compiling torchvision from source. For further information on the compatible versions, check https://github.com/pytorch/vision#installation for the compatibility matrix. Please check your PyTorch version with torch.__version__ and your torchvision version with torchvision.__version__ and verify if they are compatible, and if not please reinstall torchvision so that it matches your PyTorch install.\n",
      "\n"
     ]
    },
    {
     "name": "stderr",
     "output_type": "stream",
     "text": [
      "\r",
      " 26%|███████████▏                               | 22/85 [01:16<03:36,  3.44s/it]"
     ]
    },
    {
     "name": "stdout",
     "output_type": "stream",
     "text": [
      "PTDetector: image /home/kyra/animl-py/examples/Peru/S90/SDZG 2/EK000028.JPG failed during inference: Couldn't load custom C++ ops. This can happen if your PyTorch and torchvision versions are incompatible, or if you had errors while compiling torchvision from source. For further information on the compatible versions, check https://github.com/pytorch/vision#installation for the compatibility matrix. Please check your PyTorch version with torch.__version__ and your torchvision version with torchvision.__version__ and verify if they are compatible, and if not please reinstall torchvision so that it matches your PyTorch install.\n",
      "\n"
     ]
    },
    {
     "name": "stderr",
     "output_type": "stream",
     "text": [
      "\r",
      " 27%|███████████▋                               | 23/85 [01:19<03:25,  3.31s/it]"
     ]
    },
    {
     "name": "stdout",
     "output_type": "stream",
     "text": [
      "PTDetector: image /home/kyra/animl-py/examples/Peru/S90/SDZG 2/EK000008.JPG failed during inference: Couldn't load custom C++ ops. This can happen if your PyTorch and torchvision versions are incompatible, or if you had errors while compiling torchvision from source. For further information on the compatible versions, check https://github.com/pytorch/vision#installation for the compatibility matrix. Please check your PyTorch version with torch.__version__ and your torchvision version with torchvision.__version__ and verify if they are compatible, and if not please reinstall torchvision so that it matches your PyTorch install.\n",
      "\n"
     ]
    },
    {
     "name": "stderr",
     "output_type": "stream",
     "text": [
      "\r",
      " 28%|████████████▏                              | 24/85 [01:23<03:23,  3.34s/it]"
     ]
    },
    {
     "name": "stdout",
     "output_type": "stream",
     "text": [
      "PTDetector: image /home/kyra/animl-py/examples/Peru/S90/SDZG 2/EK000061.JPG failed during inference: Couldn't load custom C++ ops. This can happen if your PyTorch and torchvision versions are incompatible, or if you had errors while compiling torchvision from source. For further information on the compatible versions, check https://github.com/pytorch/vision#installation for the compatibility matrix. Please check your PyTorch version with torch.__version__ and your torchvision version with torchvision.__version__ and verify if they are compatible, and if not please reinstall torchvision so that it matches your PyTorch install.\n",
      "\n"
     ]
    },
    {
     "name": "stderr",
     "output_type": "stream",
     "text": [
      "\r",
      " 29%|████████████▋                              | 25/85 [01:26<03:14,  3.24s/it]"
     ]
    },
    {
     "name": "stdout",
     "output_type": "stream",
     "text": [
      "PTDetector: image /home/kyra/animl-py/examples/Peru/S90/SDZG 2/EK000049.JPG failed during inference: Couldn't load custom C++ ops. This can happen if your PyTorch and torchvision versions are incompatible, or if you had errors while compiling torchvision from source. For further information on the compatible versions, check https://github.com/pytorch/vision#installation for the compatibility matrix. Please check your PyTorch version with torch.__version__ and your torchvision version with torchvision.__version__ and verify if they are compatible, and if not please reinstall torchvision so that it matches your PyTorch install.\n",
      "\n"
     ]
    },
    {
     "name": "stderr",
     "output_type": "stream",
     "text": [
      "\r",
      " 31%|█████████████▏                             | 26/85 [01:29<03:09,  3.21s/it]"
     ]
    },
    {
     "name": "stdout",
     "output_type": "stream",
     "text": [
      "PTDetector: image /home/kyra/animl-py/examples/Peru/S90/SDZG 2/EK000018.JPG failed during inference: Couldn't load custom C++ ops. This can happen if your PyTorch and torchvision versions are incompatible, or if you had errors while compiling torchvision from source. For further information on the compatible versions, check https://github.com/pytorch/vision#installation for the compatibility matrix. Please check your PyTorch version with torch.__version__ and your torchvision version with torchvision.__version__ and verify if they are compatible, and if not please reinstall torchvision so that it matches your PyTorch install.\n",
      "\n"
     ]
    },
    {
     "name": "stderr",
     "output_type": "stream",
     "text": [
      "\r",
      " 32%|█████████████▋                             | 27/85 [01:33<03:14,  3.35s/it]"
     ]
    },
    {
     "name": "stdout",
     "output_type": "stream",
     "text": [
      "PTDetector: image /home/kyra/animl-py/examples/Peru/S90/SDZG 2/EK000013.JPG failed during inference: Couldn't load custom C++ ops. This can happen if your PyTorch and torchvision versions are incompatible, or if you had errors while compiling torchvision from source. For further information on the compatible versions, check https://github.com/pytorch/vision#installation for the compatibility matrix. Please check your PyTorch version with torch.__version__ and your torchvision version with torchvision.__version__ and verify if they are compatible, and if not please reinstall torchvision so that it matches your PyTorch install.\n",
      "\n"
     ]
    },
    {
     "name": "stderr",
     "output_type": "stream",
     "text": [
      "\r",
      " 33%|██████████████▏                            | 28/85 [01:37<03:24,  3.59s/it]"
     ]
    },
    {
     "name": "stdout",
     "output_type": "stream",
     "text": [
      "PTDetector: image /home/kyra/animl-py/examples/Peru/S90/SDZG 2/EK000044.JPG failed during inference: Couldn't load custom C++ ops. This can happen if your PyTorch and torchvision versions are incompatible, or if you had errors while compiling torchvision from source. For further information on the compatible versions, check https://github.com/pytorch/vision#installation for the compatibility matrix. Please check your PyTorch version with torch.__version__ and your torchvision version with torchvision.__version__ and verify if they are compatible, and if not please reinstall torchvision so that it matches your PyTorch install.\n",
      "\n"
     ]
    },
    {
     "name": "stderr",
     "output_type": "stream",
     "text": [
      "\r",
      " 34%|██████████████▋                            | 29/85 [01:40<03:11,  3.42s/it]"
     ]
    },
    {
     "name": "stdout",
     "output_type": "stream",
     "text": [
      "PTDetector: image /home/kyra/animl-py/examples/Peru/S90/SDZG 2/EK000029.JPG failed during inference: Couldn't load custom C++ ops. This can happen if your PyTorch and torchvision versions are incompatible, or if you had errors while compiling torchvision from source. For further information on the compatible versions, check https://github.com/pytorch/vision#installation for the compatibility matrix. Please check your PyTorch version with torch.__version__ and your torchvision version with torchvision.__version__ and verify if they are compatible, and if not please reinstall torchvision so that it matches your PyTorch install.\n",
      "\n"
     ]
    },
    {
     "name": "stderr",
     "output_type": "stream",
     "text": [
      "\r",
      " 35%|███████████████▏                           | 30/85 [01:43<03:04,  3.35s/it]"
     ]
    },
    {
     "name": "stdout",
     "output_type": "stream",
     "text": [
      "PTDetector: image /home/kyra/animl-py/examples/Peru/S90/SDZG 2/EK000045.JPG failed during inference: Couldn't load custom C++ ops. This can happen if your PyTorch and torchvision versions are incompatible, or if you had errors while compiling torchvision from source. For further information on the compatible versions, check https://github.com/pytorch/vision#installation for the compatibility matrix. Please check your PyTorch version with torch.__version__ and your torchvision version with torchvision.__version__ and verify if they are compatible, and if not please reinstall torchvision so that it matches your PyTorch install.\n",
      "\n"
     ]
    },
    {
     "name": "stderr",
     "output_type": "stream",
     "text": [
      "\r",
      " 36%|███████████████▋                           | 31/85 [01:46<02:56,  3.26s/it]"
     ]
    },
    {
     "name": "stdout",
     "output_type": "stream",
     "text": [
      "PTDetector: image /home/kyra/animl-py/examples/Peru/S90/SDZG 2/EK000064.JPG failed during inference: Couldn't load custom C++ ops. This can happen if your PyTorch and torchvision versions are incompatible, or if you had errors while compiling torchvision from source. For further information on the compatible versions, check https://github.com/pytorch/vision#installation for the compatibility matrix. Please check your PyTorch version with torch.__version__ and your torchvision version with torchvision.__version__ and verify if they are compatible, and if not please reinstall torchvision so that it matches your PyTorch install.\n",
      "\n"
     ]
    },
    {
     "name": "stderr",
     "output_type": "stream",
     "text": [
      "\r",
      " 38%|████████████████▏                          | 32/85 [01:49<02:47,  3.17s/it]"
     ]
    },
    {
     "name": "stdout",
     "output_type": "stream",
     "text": [
      "PTDetector: image /home/kyra/animl-py/examples/Peru/S90/SDZG 2/EK000074.JPG failed during inference: Couldn't load custom C++ ops. This can happen if your PyTorch and torchvision versions are incompatible, or if you had errors while compiling torchvision from source. For further information on the compatible versions, check https://github.com/pytorch/vision#installation for the compatibility matrix. Please check your PyTorch version with torch.__version__ and your torchvision version with torchvision.__version__ and verify if they are compatible, and if not please reinstall torchvision so that it matches your PyTorch install.\n",
      "\n"
     ]
    },
    {
     "name": "stderr",
     "output_type": "stream",
     "text": [
      "\r",
      " 39%|████████████████▋                          | 33/85 [01:52<02:41,  3.11s/it]"
     ]
    },
    {
     "name": "stdout",
     "output_type": "stream",
     "text": [
      "PTDetector: image /home/kyra/animl-py/examples/Peru/S90/SDZG 2/EK000053.JPG failed during inference: Couldn't load custom C++ ops. This can happen if your PyTorch and torchvision versions are incompatible, or if you had errors while compiling torchvision from source. For further information on the compatible versions, check https://github.com/pytorch/vision#installation for the compatibility matrix. Please check your PyTorch version with torch.__version__ and your torchvision version with torchvision.__version__ and verify if they are compatible, and if not please reinstall torchvision so that it matches your PyTorch install.\n",
      "\n"
     ]
    },
    {
     "name": "stderr",
     "output_type": "stream",
     "text": [
      "\r",
      " 40%|█████████████████▏                         | 34/85 [01:55<02:37,  3.09s/it]"
     ]
    },
    {
     "name": "stdout",
     "output_type": "stream",
     "text": [
      "PTDetector: image /home/kyra/animl-py/examples/Peru/S90/SDZG 2/EK000012.JPG failed during inference: Couldn't load custom C++ ops. This can happen if your PyTorch and torchvision versions are incompatible, or if you had errors while compiling torchvision from source. For further information on the compatible versions, check https://github.com/pytorch/vision#installation for the compatibility matrix. Please check your PyTorch version with torch.__version__ and your torchvision version with torchvision.__version__ and verify if they are compatible, and if not please reinstall torchvision so that it matches your PyTorch install.\n",
      "\n"
     ]
    },
    {
     "name": "stderr",
     "output_type": "stream",
     "text": [
      " 42%|██████████████████▏                        | 36/85 [02:01<02:29,  3.05s/it]"
     ]
    },
    {
     "name": "stdout",
     "output_type": "stream",
     "text": [
      "PTDetector: image /home/kyra/animl-py/examples/Peru/S90/SDZG 2/EK000014.JPG failed during inference: Couldn't load custom C++ ops. This can happen if your PyTorch and torchvision versions are incompatible, or if you had errors while compiling torchvision from source. For further information on the compatible versions, check https://github.com/pytorch/vision#installation for the compatibility matrix. Please check your PyTorch version with torch.__version__ and your torchvision version with torchvision.__version__ and verify if they are compatible, and if not please reinstall torchvision so that it matches your PyTorch install.\n",
      "\n"
     ]
    },
    {
     "name": "stderr",
     "output_type": "stream",
     "text": [
      "\r",
      " 44%|██████████████████▋                        | 37/85 [02:04<02:24,  3.01s/it]"
     ]
    },
    {
     "name": "stdout",
     "output_type": "stream",
     "text": [
      "PTDetector: image /home/kyra/animl-py/examples/Peru/S90/SDZG 2/EK000058.JPG failed during inference: Couldn't load custom C++ ops. This can happen if your PyTorch and torchvision versions are incompatible, or if you had errors while compiling torchvision from source. For further information on the compatible versions, check https://github.com/pytorch/vision#installation for the compatibility matrix. Please check your PyTorch version with torch.__version__ and your torchvision version with torchvision.__version__ and verify if they are compatible, and if not please reinstall torchvision so that it matches your PyTorch install.\n",
      "\n"
     ]
    },
    {
     "name": "stderr",
     "output_type": "stream",
     "text": [
      "\r",
      " 45%|███████████████████▏                       | 38/85 [02:07<02:22,  3.02s/it]"
     ]
    },
    {
     "name": "stdout",
     "output_type": "stream",
     "text": [
      "PTDetector: image /home/kyra/animl-py/examples/Peru/S90/SDZG 2/EK000040.JPG failed during inference: Couldn't load custom C++ ops. This can happen if your PyTorch and torchvision versions are incompatible, or if you had errors while compiling torchvision from source. For further information on the compatible versions, check https://github.com/pytorch/vision#installation for the compatibility matrix. Please check your PyTorch version with torch.__version__ and your torchvision version with torchvision.__version__ and verify if they are compatible, and if not please reinstall torchvision so that it matches your PyTorch install.\n",
      "\n"
     ]
    },
    {
     "name": "stderr",
     "output_type": "stream",
     "text": [
      " 47%|████████████████████▏                      | 40/85 [02:13<02:17,  3.06s/it]"
     ]
    },
    {
     "name": "stdout",
     "output_type": "stream",
     "text": [
      "PTDetector: image /home/kyra/animl-py/examples/Peru/S90/SDZG 2/EK000052.JPG failed during inference: Couldn't load custom C++ ops. This can happen if your PyTorch and torchvision versions are incompatible, or if you had errors while compiling torchvision from source. For further information on the compatible versions, check https://github.com/pytorch/vision#installation for the compatibility matrix. Please check your PyTorch version with torch.__version__ and your torchvision version with torchvision.__version__ and verify if they are compatible, and if not please reinstall torchvision so that it matches your PyTorch install.\n",
      "\n"
     ]
    },
    {
     "name": "stderr",
     "output_type": "stream",
     "text": [
      "\r",
      " 48%|████████████████████▋                      | 41/85 [02:16<02:15,  3.08s/it]"
     ]
    },
    {
     "name": "stdout",
     "output_type": "stream",
     "text": [
      "PTDetector: image /home/kyra/animl-py/examples/Peru/S90/SDZG 2/EK000033.JPG failed during inference: Couldn't load custom C++ ops. This can happen if your PyTorch and torchvision versions are incompatible, or if you had errors while compiling torchvision from source. For further information on the compatible versions, check https://github.com/pytorch/vision#installation for the compatibility matrix. Please check your PyTorch version with torch.__version__ and your torchvision version with torchvision.__version__ and verify if they are compatible, and if not please reinstall torchvision so that it matches your PyTorch install.\n",
      "\n"
     ]
    },
    {
     "name": "stderr",
     "output_type": "stream",
     "text": [
      "\r",
      " 49%|█████████████████████▏                     | 42/85 [02:19<02:12,  3.08s/it]"
     ]
    },
    {
     "name": "stdout",
     "output_type": "stream",
     "text": [
      "PTDetector: image /home/kyra/animl-py/examples/Peru/S90/SDZG 2/EK000048.JPG failed during inference: Couldn't load custom C++ ops. This can happen if your PyTorch and torchvision versions are incompatible, or if you had errors while compiling torchvision from source. For further information on the compatible versions, check https://github.com/pytorch/vision#installation for the compatibility matrix. Please check your PyTorch version with torch.__version__ and your torchvision version with torchvision.__version__ and verify if they are compatible, and if not please reinstall torchvision so that it matches your PyTorch install.\n",
      "\n"
     ]
    },
    {
     "name": "stderr",
     "output_type": "stream",
     "text": [
      "\r",
      " 51%|█████████████████████▊                     | 43/85 [02:23<02:10,  3.10s/it]"
     ]
    },
    {
     "name": "stdout",
     "output_type": "stream",
     "text": [
      "PTDetector: image /home/kyra/animl-py/examples/Peru/S90/SDZG 2/EK000065.JPG failed during inference: Couldn't load custom C++ ops. This can happen if your PyTorch and torchvision versions are incompatible, or if you had errors while compiling torchvision from source. For further information on the compatible versions, check https://github.com/pytorch/vision#installation for the compatibility matrix. Please check your PyTorch version with torch.__version__ and your torchvision version with torchvision.__version__ and verify if they are compatible, and if not please reinstall torchvision so that it matches your PyTorch install.\n",
      "\n"
     ]
    },
    {
     "name": "stderr",
     "output_type": "stream",
     "text": [
      "\r",
      " 52%|██████████████████████▎                    | 44/85 [02:26<02:09,  3.15s/it]"
     ]
    },
    {
     "name": "stdout",
     "output_type": "stream",
     "text": [
      "PTDetector: image /home/kyra/animl-py/examples/Peru/S90/SDZG 2/EK000069.JPG failed during inference: Couldn't load custom C++ ops. This can happen if your PyTorch and torchvision versions are incompatible, or if you had errors while compiling torchvision from source. For further information on the compatible versions, check https://github.com/pytorch/vision#installation for the compatibility matrix. Please check your PyTorch version with torch.__version__ and your torchvision version with torchvision.__version__ and verify if they are compatible, and if not please reinstall torchvision so that it matches your PyTorch install.\n",
      "\n"
     ]
    },
    {
     "name": "stderr",
     "output_type": "stream",
     "text": [
      "\r",
      " 53%|██████████████████████▊                    | 45/85 [02:29<02:05,  3.14s/it]"
     ]
    },
    {
     "name": "stdout",
     "output_type": "stream",
     "text": [
      "PTDetector: image /home/kyra/animl-py/examples/Peru/S90/SDZG 2/EK000024.JPG failed during inference: Couldn't load custom C++ ops. This can happen if your PyTorch and torchvision versions are incompatible, or if you had errors while compiling torchvision from source. For further information on the compatible versions, check https://github.com/pytorch/vision#installation for the compatibility matrix. Please check your PyTorch version with torch.__version__ and your torchvision version with torchvision.__version__ and verify if they are compatible, and if not please reinstall torchvision so that it matches your PyTorch install.\n",
      "\n"
     ]
    },
    {
     "name": "stderr",
     "output_type": "stream",
     "text": [
      "\r",
      " 54%|███████████████████████▎                   | 46/85 [02:33<02:15,  3.48s/it]"
     ]
    },
    {
     "name": "stdout",
     "output_type": "stream",
     "text": [
      "PTDetector: image /home/kyra/animl-py/examples/Peru/S90/SDZG 2/EK000054.JPG failed during inference: Couldn't load custom C++ ops. This can happen if your PyTorch and torchvision versions are incompatible, or if you had errors while compiling torchvision from source. For further information on the compatible versions, check https://github.com/pytorch/vision#installation for the compatibility matrix. Please check your PyTorch version with torch.__version__ and your torchvision version with torchvision.__version__ and verify if they are compatible, and if not please reinstall torchvision so that it matches your PyTorch install.\n",
      "\n"
     ]
    },
    {
     "name": "stderr",
     "output_type": "stream",
     "text": [
      "\r",
      " 55%|███████████████████████▊                   | 47/85 [02:36<02:07,  3.35s/it]"
     ]
    },
    {
     "name": "stdout",
     "output_type": "stream",
     "text": [
      "PTDetector: image /home/kyra/animl-py/examples/Peru/S90/SDZG 2/EK000009.JPG failed during inference: Couldn't load custom C++ ops. This can happen if your PyTorch and torchvision versions are incompatible, or if you had errors while compiling torchvision from source. For further information on the compatible versions, check https://github.com/pytorch/vision#installation for the compatibility matrix. Please check your PyTorch version with torch.__version__ and your torchvision version with torchvision.__version__ and verify if they are compatible, and if not please reinstall torchvision so that it matches your PyTorch install.\n",
      "\n"
     ]
    },
    {
     "name": "stderr",
     "output_type": "stream",
     "text": [
      "\r",
      " 56%|████████████████████████▎                  | 48/85 [02:40<02:03,  3.34s/it]"
     ]
    },
    {
     "name": "stdout",
     "output_type": "stream",
     "text": [
      "PTDetector: image /home/kyra/animl-py/examples/Peru/S90/SDZG 2/EK000037.JPG failed during inference: Couldn't load custom C++ ops. This can happen if your PyTorch and torchvision versions are incompatible, or if you had errors while compiling torchvision from source. For further information on the compatible versions, check https://github.com/pytorch/vision#installation for the compatibility matrix. Please check your PyTorch version with torch.__version__ and your torchvision version with torchvision.__version__ and verify if they are compatible, and if not please reinstall torchvision so that it matches your PyTorch install.\n",
      "\n"
     ]
    },
    {
     "name": "stderr",
     "output_type": "stream",
     "text": [
      "\r",
      " 58%|████████████████████████▊                  | 49/85 [02:43<01:56,  3.24s/it]"
     ]
    },
    {
     "name": "stdout",
     "output_type": "stream",
     "text": [
      "PTDetector: image /home/kyra/animl-py/examples/Peru/S90/SDZG 2/EK000032.JPG failed during inference: Couldn't load custom C++ ops. This can happen if your PyTorch and torchvision versions are incompatible, or if you had errors while compiling torchvision from source. For further information on the compatible versions, check https://github.com/pytorch/vision#installation for the compatibility matrix. Please check your PyTorch version with torch.__version__ and your torchvision version with torchvision.__version__ and verify if they are compatible, and if not please reinstall torchvision so that it matches your PyTorch install.\n",
      "\n"
     ]
    },
    {
     "name": "stderr",
     "output_type": "stream",
     "text": [
      "\r",
      " 59%|█████████████████████████▎                 | 50/85 [02:46<01:50,  3.16s/it]"
     ]
    },
    {
     "name": "stdout",
     "output_type": "stream",
     "text": [
      "PTDetector: image /home/kyra/animl-py/examples/Peru/S90/SDZG 2/EK000046.JPG failed during inference: Couldn't load custom C++ ops. This can happen if your PyTorch and torchvision versions are incompatible, or if you had errors while compiling torchvision from source. For further information on the compatible versions, check https://github.com/pytorch/vision#installation for the compatibility matrix. Please check your PyTorch version with torch.__version__ and your torchvision version with torchvision.__version__ and verify if they are compatible, and if not please reinstall torchvision so that it matches your PyTorch install.\n",
      "\n"
     ]
    },
    {
     "name": "stderr",
     "output_type": "stream",
     "text": [
      "\r",
      " 60%|█████████████████████████▊                 | 51/85 [02:50<01:57,  3.45s/it]"
     ]
    },
    {
     "name": "stdout",
     "output_type": "stream",
     "text": [
      "PTDetector: image /home/kyra/animl-py/examples/Peru/S90/SDZG 2/EK000030.JPG failed during inference: Couldn't load custom C++ ops. This can happen if your PyTorch and torchvision versions are incompatible, or if you had errors while compiling torchvision from source. For further information on the compatible versions, check https://github.com/pytorch/vision#installation for the compatibility matrix. Please check your PyTorch version with torch.__version__ and your torchvision version with torchvision.__version__ and verify if they are compatible, and if not please reinstall torchvision so that it matches your PyTorch install.\n",
      "\n"
     ]
    },
    {
     "name": "stderr",
     "output_type": "stream",
     "text": [
      "\r",
      " 61%|██████████████████████████▎                | 52/85 [02:54<02:00,  3.65s/it]"
     ]
    },
    {
     "name": "stdout",
     "output_type": "stream",
     "text": [
      "PTDetector: image /home/kyra/animl-py/examples/Peru/S90/SDZG 2/Animl-Directory/Frames/EK000011-02340-0.jpg failed during inference: Couldn't load custom C++ ops. This can happen if your PyTorch and torchvision versions are incompatible, or if you had errors while compiling torchvision from source. For further information on the compatible versions, check https://github.com/pytorch/vision#installation for the compatibility matrix. Please check your PyTorch version with torch.__version__ and your torchvision version with torchvision.__version__ and verify if they are compatible, and if not please reinstall torchvision so that it matches your PyTorch install.\n",
      "\n"
     ]
    },
    {
     "name": "stderr",
     "output_type": "stream",
     "text": [
      "\r",
      " 62%|██████████████████████████▊                | 53/85 [02:57<01:47,  3.37s/it]"
     ]
    },
    {
     "name": "stdout",
     "output_type": "stream",
     "text": [
      "PTDetector: image /home/kyra/animl-py/examples/Peru/S90/SDZG 2/Animl-Directory/Frames/EK000011-02340-161.jpg failed during inference: Couldn't load custom C++ ops. This can happen if your PyTorch and torchvision versions are incompatible, or if you had errors while compiling torchvision from source. For further information on the compatible versions, check https://github.com/pytorch/vision#installation for the compatibility matrix. Please check your PyTorch version with torch.__version__ and your torchvision version with torchvision.__version__ and verify if they are compatible, and if not please reinstall torchvision so that it matches your PyTorch install.\n",
      "\n"
     ]
    },
    {
     "name": "stderr",
     "output_type": "stream",
     "text": [
      "\r",
      " 64%|███████████████████████████▎               | 54/85 [02:59<01:35,  3.09s/it]"
     ]
    },
    {
     "name": "stdout",
     "output_type": "stream",
     "text": [
      "PTDetector: image /home/kyra/animl-py/examples/Peru/S90/SDZG 2/Animl-Directory/Frames/EK000023-14683-0.jpg failed during inference: Couldn't load custom C++ ops. This can happen if your PyTorch and torchvision versions are incompatible, or if you had errors while compiling torchvision from source. For further information on the compatible versions, check https://github.com/pytorch/vision#installation for the compatibility matrix. Please check your PyTorch version with torch.__version__ and your torchvision version with torchvision.__version__ and verify if they are compatible, and if not please reinstall torchvision so that it matches your PyTorch install.\n",
      "\n"
     ]
    },
    {
     "name": "stderr",
     "output_type": "stream",
     "text": [
      "\r",
      " 65%|███████████████████████████▊               | 55/85 [03:01<01:25,  2.86s/it]"
     ]
    },
    {
     "name": "stdout",
     "output_type": "stream",
     "text": [
      "PTDetector: image /home/kyra/animl-py/examples/Peru/S90/SDZG 2/Animl-Directory/Frames/EK000023-14683-161.jpg failed during inference: Couldn't load custom C++ ops. This can happen if your PyTorch and torchvision versions are incompatible, or if you had errors while compiling torchvision from source. For further information on the compatible versions, check https://github.com/pytorch/vision#installation for the compatibility matrix. Please check your PyTorch version with torch.__version__ and your torchvision version with torchvision.__version__ and verify if they are compatible, and if not please reinstall torchvision so that it matches your PyTorch install.\n",
      "\n"
     ]
    },
    {
     "name": "stderr",
     "output_type": "stream",
     "text": [
      "\r",
      " 66%|████████████████████████████▎              | 56/85 [03:04<01:17,  2.68s/it]"
     ]
    },
    {
     "name": "stdout",
     "output_type": "stream",
     "text": [
      "PTDetector: image /home/kyra/animl-py/examples/Peru/S90/SDZG 2/Animl-Directory/Frames/EK000035-49377-0.jpg failed during inference: Couldn't load custom C++ ops. This can happen if your PyTorch and torchvision versions are incompatible, or if you had errors while compiling torchvision from source. For further information on the compatible versions, check https://github.com/pytorch/vision#installation for the compatibility matrix. Please check your PyTorch version with torch.__version__ and your torchvision version with torchvision.__version__ and verify if they are compatible, and if not please reinstall torchvision so that it matches your PyTorch install.\n",
      "\n"
     ]
    },
    {
     "name": "stderr",
     "output_type": "stream",
     "text": [
      "\r",
      " 67%|████████████████████████████▊              | 57/85 [03:06<01:11,  2.56s/it]"
     ]
    },
    {
     "name": "stdout",
     "output_type": "stream",
     "text": [
      "PTDetector: image /home/kyra/animl-py/examples/Peru/S90/SDZG 2/Animl-Directory/Frames/EK000035-49377-96.jpg failed during inference: Couldn't load custom C++ ops. This can happen if your PyTorch and torchvision versions are incompatible, or if you had errors while compiling torchvision from source. For further information on the compatible versions, check https://github.com/pytorch/vision#installation for the compatibility matrix. Please check your PyTorch version with torch.__version__ and your torchvision version with torchvision.__version__ and verify if they are compatible, and if not please reinstall torchvision so that it matches your PyTorch install.\n",
      "\n"
     ]
    },
    {
     "name": "stderr",
     "output_type": "stream",
     "text": [
      "\r",
      " 68%|█████████████████████████████▎             | 58/85 [03:08<01:06,  2.47s/it]"
     ]
    },
    {
     "name": "stdout",
     "output_type": "stream",
     "text": [
      "PTDetector: image /home/kyra/animl-py/examples/Peru/S90/SDZG 2/Animl-Directory/Frames/EK000051-28260-0.jpg failed during inference: Couldn't load custom C++ ops. This can happen if your PyTorch and torchvision versions are incompatible, or if you had errors while compiling torchvision from source. For further information on the compatible versions, check https://github.com/pytorch/vision#installation for the compatibility matrix. Please check your PyTorch version with torch.__version__ and your torchvision version with torchvision.__version__ and verify if they are compatible, and if not please reinstall torchvision so that it matches your PyTorch install.\n",
      "\n"
     ]
    },
    {
     "name": "stderr",
     "output_type": "stream",
     "text": [
      "\r",
      " 69%|█████████████████████████████▊             | 59/85 [03:10<01:03,  2.42s/it]"
     ]
    },
    {
     "name": "stdout",
     "output_type": "stream",
     "text": [
      "PTDetector: image /home/kyra/animl-py/examples/Peru/S90/SDZG 2/Animl-Directory/Frames/EK000051-28260-161.jpg failed during inference: Couldn't load custom C++ ops. This can happen if your PyTorch and torchvision versions are incompatible, or if you had errors while compiling torchvision from source. For further information on the compatible versions, check https://github.com/pytorch/vision#installation for the compatibility matrix. Please check your PyTorch version with torch.__version__ and your torchvision version with torchvision.__version__ and verify if they are compatible, and if not please reinstall torchvision so that it matches your PyTorch install.\n",
      "\n"
     ]
    },
    {
     "name": "stderr",
     "output_type": "stream",
     "text": [
      "\r",
      " 71%|██████████████████████████████▎            | 60/85 [03:14<01:07,  2.71s/it]"
     ]
    },
    {
     "name": "stdout",
     "output_type": "stream",
     "text": [
      "PTDetector: image /home/kyra/animl-py/examples/Peru/S90/SDZG 2/Animl-Directory/Frames/EK000055-21529-0.jpg failed during inference: Couldn't load custom C++ ops. This can happen if your PyTorch and torchvision versions are incompatible, or if you had errors while compiling torchvision from source. For further information on the compatible versions, check https://github.com/pytorch/vision#installation for the compatibility matrix. Please check your PyTorch version with torch.__version__ and your torchvision version with torchvision.__version__ and verify if they are compatible, and if not please reinstall torchvision so that it matches your PyTorch install.\n",
      "\n"
     ]
    },
    {
     "name": "stderr",
     "output_type": "stream",
     "text": [
      "\r",
      " 72%|██████████████████████████████▊            | 61/85 [03:17<01:05,  2.74s/it]"
     ]
    },
    {
     "name": "stdout",
     "output_type": "stream",
     "text": [
      "PTDetector: image /home/kyra/animl-py/examples/Peru/S90/SDZG 2/Animl-Directory/Frames/EK000055-21529-161.jpg failed during inference: Couldn't load custom C++ ops. This can happen if your PyTorch and torchvision versions are incompatible, or if you had errors while compiling torchvision from source. For further information on the compatible versions, check https://github.com/pytorch/vision#installation for the compatibility matrix. Please check your PyTorch version with torch.__version__ and your torchvision version with torchvision.__version__ and verify if they are compatible, and if not please reinstall torchvision so that it matches your PyTorch install.\n",
      "\n"
     ]
    },
    {
     "name": "stderr",
     "output_type": "stream",
     "text": [
      "\r",
      " 73%|███████████████████████████████▎           | 62/85 [03:20<01:09,  3.03s/it]"
     ]
    },
    {
     "name": "stdout",
     "output_type": "stream",
     "text": [
      "PTDetector: image /home/kyra/animl-py/examples/Peru/S90/SDZG 2/Animl-Directory/Frames/EK000015-10744-0.jpg failed during inference: Couldn't load custom C++ ops. This can happen if your PyTorch and torchvision versions are incompatible, or if you had errors while compiling torchvision from source. For further information on the compatible versions, check https://github.com/pytorch/vision#installation for the compatibility matrix. Please check your PyTorch version with torch.__version__ and your torchvision version with torchvision.__version__ and verify if they are compatible, and if not please reinstall torchvision so that it matches your PyTorch install.\n",
      "\n"
     ]
    },
    {
     "name": "stderr",
     "output_type": "stream",
     "text": [
      "\r",
      " 74%|███████████████████████████████▊           | 63/85 [03:24<01:10,  3.21s/it]"
     ]
    },
    {
     "name": "stdout",
     "output_type": "stream",
     "text": [
      "PTDetector: image /home/kyra/animl-py/examples/Peru/S90/SDZG 2/Animl-Directory/Frames/EK000015-10744-96.jpg failed during inference: Couldn't load custom C++ ops. This can happen if your PyTorch and torchvision versions are incompatible, or if you had errors while compiling torchvision from source. For further information on the compatible versions, check https://github.com/pytorch/vision#installation for the compatibility matrix. Please check your PyTorch version with torch.__version__ and your torchvision version with torchvision.__version__ and verify if they are compatible, and if not please reinstall torchvision so that it matches your PyTorch install.\n",
      "\n"
     ]
    },
    {
     "name": "stderr",
     "output_type": "stream",
     "text": [
      "\r",
      " 75%|████████████████████████████████▍          | 64/85 [03:27<01:04,  3.07s/it]"
     ]
    },
    {
     "name": "stdout",
     "output_type": "stream",
     "text": [
      "PTDetector: image /home/kyra/animl-py/examples/Peru/S90/SDZG 2/Animl-Directory/Frames/EK000047-25771-0.jpg failed during inference: Couldn't load custom C++ ops. This can happen if your PyTorch and torchvision versions are incompatible, or if you had errors while compiling torchvision from source. For further information on the compatible versions, check https://github.com/pytorch/vision#installation for the compatibility matrix. Please check your PyTorch version with torch.__version__ and your torchvision version with torchvision.__version__ and verify if they are compatible, and if not please reinstall torchvision so that it matches your PyTorch install.\n",
      "\n"
     ]
    },
    {
     "name": "stderr",
     "output_type": "stream",
     "text": [
      "\r",
      " 76%|████████████████████████████████▉          | 65/85 [03:30<01:04,  3.22s/it]"
     ]
    },
    {
     "name": "stdout",
     "output_type": "stream",
     "text": [
      "PTDetector: image /home/kyra/animl-py/examples/Peru/S90/SDZG 2/Animl-Directory/Frames/EK000047-25771-159.jpg failed during inference: Couldn't load custom C++ ops. This can happen if your PyTorch and torchvision versions are incompatible, or if you had errors while compiling torchvision from source. For further information on the compatible versions, check https://github.com/pytorch/vision#installation for the compatibility matrix. Please check your PyTorch version with torch.__version__ and your torchvision version with torchvision.__version__ and verify if they are compatible, and if not please reinstall torchvision so that it matches your PyTorch install.\n",
      "\n"
     ]
    },
    {
     "name": "stderr",
     "output_type": "stream",
     "text": [
      " 80%|██████████████████████████████████▍        | 68/85 [03:40<00:51,  3.05s/it]"
     ]
    },
    {
     "name": "stdout",
     "output_type": "stream",
     "text": [
      "PTDetector: image /home/kyra/animl-py/examples/Peru/S90/SDZG 2/Animl-Directory/Frames/EK000071-76990-0.jpg failed during inference: Couldn't load custom C++ ops. This can happen if your PyTorch and torchvision versions are incompatible, or if you had errors while compiling torchvision from source. For further information on the compatible versions, check https://github.com/pytorch/vision#installation for the compatibility matrix. Please check your PyTorch version with torch.__version__ and your torchvision version with torchvision.__version__ and verify if they are compatible, and if not please reinstall torchvision so that it matches your PyTorch install.\n",
      "\n"
     ]
    },
    {
     "name": "stderr",
     "output_type": "stream",
     "text": [
      "\r",
      " 81%|██████████████████████████████████▉        | 69/85 [03:43<00:48,  3.06s/it]"
     ]
    },
    {
     "name": "stdout",
     "output_type": "stream",
     "text": [
      "PTDetector: image /home/kyra/animl-py/examples/Peru/S90/SDZG 2/Animl-Directory/Frames/EK000071-76990-161.jpg failed during inference: Couldn't load custom C++ ops. This can happen if your PyTorch and torchvision versions are incompatible, or if you had errors while compiling torchvision from source. For further information on the compatible versions, check https://github.com/pytorch/vision#installation for the compatibility matrix. Please check your PyTorch version with torch.__version__ and your torchvision version with torchvision.__version__ and verify if they are compatible, and if not please reinstall torchvision so that it matches your PyTorch install.\n",
      "\n"
     ]
    },
    {
     "name": "stderr",
     "output_type": "stream",
     "text": [
      " 85%|████████████████████████████████████▍      | 72/85 [03:52<00:37,  2.86s/it]"
     ]
    },
    {
     "name": "stdout",
     "output_type": "stream",
     "text": [
      "PTDetector: image /home/kyra/animl-py/examples/Peru/S90/SDZG 2/Animl-Directory/Frames/EK000063-96301-0.jpg failed during inference: Couldn't load custom C++ ops. This can happen if your PyTorch and torchvision versions are incompatible, or if you had errors while compiling torchvision from source. For further information on the compatible versions, check https://github.com/pytorch/vision#installation for the compatibility matrix. Please check your PyTorch version with torch.__version__ and your torchvision version with torchvision.__version__ and verify if they are compatible, and if not please reinstall torchvision so that it matches your PyTorch install.\n",
      "\n"
     ]
    },
    {
     "name": "stderr",
     "output_type": "stream",
     "text": [
      " 87%|█████████████████████████████████████▍     | 74/85 [03:59<00:36,  3.29s/it]"
     ]
    },
    {
     "name": "stdout",
     "output_type": "stream",
     "text": [
      "PTDetector: image /home/kyra/animl-py/examples/Peru/S90/SDZG 2/Animl-Directory/Frames/EK000075-90210-0.jpg failed during inference: Couldn't load custom C++ ops. This can happen if your PyTorch and torchvision versions are incompatible, or if you had errors while compiling torchvision from source. For further information on the compatible versions, check https://github.com/pytorch/vision#installation for the compatibility matrix. Please check your PyTorch version with torch.__version__ and your torchvision version with torchvision.__version__ and verify if they are compatible, and if not please reinstall torchvision so that it matches your PyTorch install.\n",
      "\n"
     ]
    },
    {
     "name": "stderr",
     "output_type": "stream",
     "text": [
      "\r",
      " 88%|█████████████████████████████████████▉     | 75/85 [04:03<00:35,  3.53s/it]"
     ]
    },
    {
     "name": "stdout",
     "output_type": "stream",
     "text": [
      "PTDetector: image /home/kyra/animl-py/examples/Peru/S90/SDZG 2/Animl-Directory/Frames/EK000075-90210-96.jpg failed during inference: Couldn't load custom C++ ops. This can happen if your PyTorch and torchvision versions are incompatible, or if you had errors while compiling torchvision from source. For further information on the compatible versions, check https://github.com/pytorch/vision#installation for the compatibility matrix. Please check your PyTorch version with torch.__version__ and your torchvision version with torchvision.__version__ and verify if they are compatible, and if not please reinstall torchvision so that it matches your PyTorch install.\n",
      "\n"
     ]
    },
    {
     "name": "stderr",
     "output_type": "stream",
     "text": [
      "\r",
      " 89%|██████████████████████████████████████▍    | 76/85 [04:07<00:32,  3.58s/it]"
     ]
    },
    {
     "name": "stdout",
     "output_type": "stream",
     "text": [
      "PTDetector: image /home/kyra/animl-py/examples/Peru/S90/SDZG 2/Animl-Directory/Frames/EK000031-21510-0.jpg failed during inference: Couldn't load custom C++ ops. This can happen if your PyTorch and torchvision versions are incompatible, or if you had errors while compiling torchvision from source. For further information on the compatible versions, check https://github.com/pytorch/vision#installation for the compatibility matrix. Please check your PyTorch version with torch.__version__ and your torchvision version with torchvision.__version__ and verify if they are compatible, and if not please reinstall torchvision so that it matches your PyTorch install.\n",
      "\n"
     ]
    },
    {
     "name": "stderr",
     "output_type": "stream",
     "text": [
      "\r",
      " 91%|██████████████████████████████████████▉    | 77/85 [04:11<00:29,  3.72s/it]"
     ]
    },
    {
     "name": "stdout",
     "output_type": "stream",
     "text": [
      "PTDetector: image /home/kyra/animl-py/examples/Peru/S90/SDZG 2/Animl-Directory/Frames/EK000031-21510-96.jpg failed during inference: Couldn't load custom C++ ops. This can happen if your PyTorch and torchvision versions are incompatible, or if you had errors while compiling torchvision from source. For further information on the compatible versions, check https://github.com/pytorch/vision#installation for the compatibility matrix. Please check your PyTorch version with torch.__version__ and your torchvision version with torchvision.__version__ and verify if they are compatible, and if not please reinstall torchvision so that it matches your PyTorch install.\n",
      "\n"
     ]
    },
    {
     "name": "stderr",
     "output_type": "stream",
     "text": [
      "\r",
      " 92%|███████████████████████████████████████▍   | 78/85 [04:15<00:26,  3.82s/it]"
     ]
    },
    {
     "name": "stdout",
     "output_type": "stream",
     "text": [
      "PTDetector: image /home/kyra/animl-py/examples/Peru/S90/SDZG 2/Animl-Directory/Frames/EK000067-82945-0.jpg failed during inference: Couldn't load custom C++ ops. This can happen if your PyTorch and torchvision versions are incompatible, or if you had errors while compiling torchvision from source. For further information on the compatible versions, check https://github.com/pytorch/vision#installation for the compatibility matrix. Please check your PyTorch version with torch.__version__ and your torchvision version with torchvision.__version__ and verify if they are compatible, and if not please reinstall torchvision so that it matches your PyTorch install.\n",
      "\n"
     ]
    },
    {
     "name": "stderr",
     "output_type": "stream",
     "text": [
      "\r",
      " 93%|███████████████████████████████████████▉   | 79/85 [04:19<00:22,  3.79s/it]"
     ]
    },
    {
     "name": "stdout",
     "output_type": "stream",
     "text": [
      "PTDetector: image /home/kyra/animl-py/examples/Peru/S90/SDZG 2/Animl-Directory/Frames/EK000067-82945-96.jpg failed during inference: Couldn't load custom C++ ops. This can happen if your PyTorch and torchvision versions are incompatible, or if you had errors while compiling torchvision from source. For further information on the compatible versions, check https://github.com/pytorch/vision#installation for the compatibility matrix. Please check your PyTorch version with torch.__version__ and your torchvision version with torchvision.__version__ and verify if they are compatible, and if not please reinstall torchvision so that it matches your PyTorch install.\n",
      "\n"
     ]
    },
    {
     "name": "stderr",
     "output_type": "stream",
     "text": [
      "\r",
      " 94%|████████████████████████████████████████▍  | 80/85 [04:22<00:18,  3.65s/it]"
     ]
    },
    {
     "name": "stdout",
     "output_type": "stream",
     "text": [
      "PTDetector: image /home/kyra/animl-py/examples/Peru/S90/SDZG 2/Animl-Directory/Frames/EK000059-77922-0.jpg failed during inference: Couldn't load custom C++ ops. This can happen if your PyTorch and torchvision versions are incompatible, or if you had errors while compiling torchvision from source. For further information on the compatible versions, check https://github.com/pytorch/vision#installation for the compatibility matrix. Please check your PyTorch version with torch.__version__ and your torchvision version with torchvision.__version__ and verify if they are compatible, and if not please reinstall torchvision so that it matches your PyTorch install.\n",
      "\n"
     ]
    },
    {
     "name": "stderr",
     "output_type": "stream",
     "text": [
      "\r",
      " 95%|████████████████████████████████████████▉  | 81/85 [04:26<00:14,  3.63s/it]"
     ]
    },
    {
     "name": "stdout",
     "output_type": "stream",
     "text": [
      "PTDetector: image /home/kyra/animl-py/examples/Peru/S90/SDZG 2/Animl-Directory/Frames/EK000059-77922-161.jpg failed during inference: Couldn't load custom C++ ops. This can happen if your PyTorch and torchvision versions are incompatible, or if you had errors while compiling torchvision from source. For further information on the compatible versions, check https://github.com/pytorch/vision#installation for the compatibility matrix. Please check your PyTorch version with torch.__version__ and your torchvision version with torchvision.__version__ and verify if they are compatible, and if not please reinstall torchvision so that it matches your PyTorch install.\n",
      "\n"
     ]
    },
    {
     "name": "stderr",
     "output_type": "stream",
     "text": [
      "\r",
      " 96%|█████████████████████████████████████████▍ | 82/85 [04:29<00:11,  3.69s/it]"
     ]
    },
    {
     "name": "stdout",
     "output_type": "stream",
     "text": [
      "PTDetector: image /home/kyra/animl-py/examples/Peru/S90/SDZG 2/Animl-Directory/Frames/EK000039-90490-0.jpg failed during inference: Couldn't load custom C++ ops. This can happen if your PyTorch and torchvision versions are incompatible, or if you had errors while compiling torchvision from source. For further information on the compatible versions, check https://github.com/pytorch/vision#installation for the compatibility matrix. Please check your PyTorch version with torch.__version__ and your torchvision version with torchvision.__version__ and verify if they are compatible, and if not please reinstall torchvision so that it matches your PyTorch install.\n",
      "\n"
     ]
    },
    {
     "name": "stderr",
     "output_type": "stream",
     "text": [
      "\r",
      " 98%|█████████████████████████████████████████▉ | 83/85 [04:33<00:07,  3.80s/it]"
     ]
    },
    {
     "name": "stdout",
     "output_type": "stream",
     "text": [
      "PTDetector: image /home/kyra/animl-py/examples/Peru/S90/SDZG 2/Animl-Directory/Frames/EK000039-90490-159.jpg failed during inference: Couldn't load custom C++ ops. This can happen if your PyTorch and torchvision versions are incompatible, or if you had errors while compiling torchvision from source. For further information on the compatible versions, check https://github.com/pytorch/vision#installation for the compatibility matrix. Please check your PyTorch version with torch.__version__ and your torchvision version with torchvision.__version__ and verify if they are compatible, and if not please reinstall torchvision so that it matches your PyTorch install.\n",
      "\n"
     ]
    },
    {
     "name": "stderr",
     "output_type": "stream",
     "text": [
      "\r",
      " 99%|██████████████████████████████████████████▍| 84/85 [04:37<00:03,  3.87s/it]"
     ]
    },
    {
     "name": "stdout",
     "output_type": "stream",
     "text": [
      "PTDetector: image /home/kyra/animl-py/examples/Peru/S90/SDZG 2/Animl-Directory/Frames/EK000019-23318-0.jpg failed during inference: Couldn't load custom C++ ops. This can happen if your PyTorch and torchvision versions are incompatible, or if you had errors while compiling torchvision from source. For further information on the compatible versions, check https://github.com/pytorch/vision#installation for the compatibility matrix. Please check your PyTorch version with torch.__version__ and your torchvision version with torchvision.__version__ and verify if they are compatible, and if not please reinstall torchvision so that it matches your PyTorch install.\n",
      "\n"
     ]
    },
    {
     "name": "stderr",
     "output_type": "stream",
     "text": [
      "100%|███████████████████████████████████████████| 85/85 [04:41<00:00,  3.31s/it]"
     ]
    },
    {
     "name": "stdout",
     "output_type": "stream",
     "text": [
      "PTDetector: image /home/kyra/animl-py/examples/Peru/S90/SDZG 2/Animl-Directory/Frames/EK000019-23318-161.jpg failed during inference: Couldn't load custom C++ ops. This can happen if your PyTorch and torchvision versions are incompatible, or if you had errors while compiling torchvision from source. For further information on the compatible versions, check https://github.com/pytorch/vision#installation for the compatibility matrix. Please check your PyTorch version with torch.__version__ and your torchvision version with torchvision.__version__ and verify if they are compatible, and if not please reinstall torchvision so that it matches your PyTorch install.\n",
      "\n"
     ]
    },
    {
     "name": "stderr",
     "output_type": "stream",
     "text": [
      "\n"
     ]
    }
   ],
   "source": [
    "mdresults = detectMD.detect_MD_batch(detector, allframes[\"Frame\"], checkpoint_path=None,\n",
    "                                checkpoint_frequency=-1, results=None, n_cores=1, quiet=True)"
   ]
  },
  {
   "cell_type": "markdown",
   "id": "74677f60",
   "metadata": {},
   "source": [
    "<b> Convert MD to DataFrame </b>"
   ]
  },
  {
   "cell_type": "code",
   "execution_count": 8,
   "id": "e3dd39ae",
   "metadata": {},
   "outputs": [
    {
     "name": "stdout",
     "output_type": "stream",
     "text": [
      "Output file already exists and was last modified 2023-06-12 15:40:13.456840,                  would you like to load it? y/n: y\n"
     ]
    }
   ],
   "source": [
    "import parseResults\n",
    "mdres = parseResults.parseMD(mdresults, manifest=allframes, out_file = workingdir.mdresults)"
   ]
  },
  {
   "cell_type": "markdown",
   "id": "f0f51777",
   "metadata": {},
   "source": [
    "<b> Extract animal detections from the rest."
   ]
  },
  {
   "cell_type": "code",
   "execution_count": 9,
   "id": "3d5396d6",
   "metadata": {},
   "outputs": [],
   "source": [
    "import splitData\n",
    "animals = splitData.getAnimals(mdres)\n",
    "empty = splitData.getEmpty(mdres)"
   ]
  },
  {
   "cell_type": "markdown",
   "id": "345eb95f",
   "metadata": {},
   "source": [
    "<b> Use the classifier model to predict the species of animal detections."
   ]
  },
  {
   "cell_type": "code",
   "execution_count": 10,
   "id": "4b0e0ab6",
   "metadata": {
    "scrolled": true
   },
   "outputs": [
    {
     "name": "stderr",
     "output_type": "stream",
     "text": [
      "2023-06-13 16:50:19.777936: I tensorflow/core/platform/cpu_feature_guard.cc:193] This TensorFlow binary is optimized with oneAPI Deep Neural Network Library (oneDNN) to use the following CPU instructions in performance-critical operations:  AVX2 FMA\n",
      "To enable them in other operations, rebuild TensorFlow with the appropriate compiler flags.\n",
      "2023-06-13 16:50:19.979417: E tensorflow/stream_executor/cuda/cuda_blas.cc:2981] Unable to register cuBLAS factory: Attempting to register factory for plugin cuBLAS when one has already been registered\n",
      "2023-06-13 16:50:20.558152: W tensorflow/stream_executor/platform/default/dso_loader.cc:64] Could not load dynamic library 'libnvinfer.so.7'; dlerror: libnvinfer.so.7: cannot open shared object file: No such file or directory\n",
      "2023-06-13 16:50:20.558219: W tensorflow/stream_executor/platform/default/dso_loader.cc:64] Could not load dynamic library 'libnvinfer_plugin.so.7'; dlerror: libnvinfer_plugin.so.7: cannot open shared object file: No such file or directory\n",
      "2023-06-13 16:50:20.558226: W tensorflow/compiler/tf2tensorrt/utils/py_utils.cc:38] TF-TRT Warning: Cannot dlopen some TensorRT libraries. If you would like to use Nvidia GPU with TensorRT, please make sure the missing libraries mentioned above are installed properly.\n",
      "2023-06-13 16:50:21.539841: I tensorflow/stream_executor/cuda/cuda_gpu_executor.cc:980] successful NUMA node read from SysFS had negative value (-1), but there must be at least one NUMA node, so returning NUMA node zero\n",
      "2023-06-13 16:50:21.540436: I tensorflow/stream_executor/cuda/cuda_gpu_executor.cc:980] successful NUMA node read from SysFS had negative value (-1), but there must be at least one NUMA node, so returning NUMA node zero\n",
      "2023-06-13 16:50:21.540602: I tensorflow/stream_executor/cuda/cuda_gpu_executor.cc:980] successful NUMA node read from SysFS had negative value (-1), but there must be at least one NUMA node, so returning NUMA node zero\n",
      "2023-06-13 16:50:21.540887: I tensorflow/core/platform/cpu_feature_guard.cc:193] This TensorFlow binary is optimized with oneAPI Deep Neural Network Library (oneDNN) to use the following CPU instructions in performance-critical operations:  AVX2 FMA\n",
      "To enable them in other operations, rebuild TensorFlow with the appropriate compiler flags.\n",
      "2023-06-13 16:50:21.541755: I tensorflow/stream_executor/cuda/cuda_gpu_executor.cc:980] successful NUMA node read from SysFS had negative value (-1), but there must be at least one NUMA node, so returning NUMA node zero\n",
      "2023-06-13 16:50:21.541931: I tensorflow/stream_executor/cuda/cuda_gpu_executor.cc:980] successful NUMA node read from SysFS had negative value (-1), but there must be at least one NUMA node, so returning NUMA node zero\n",
      "2023-06-13 16:50:21.542103: I tensorflow/stream_executor/cuda/cuda_gpu_executor.cc:980] successful NUMA node read from SysFS had negative value (-1), but there must be at least one NUMA node, so returning NUMA node zero\n",
      "2023-06-13 16:50:21.935564: I tensorflow/stream_executor/cuda/cuda_gpu_executor.cc:980] successful NUMA node read from SysFS had negative value (-1), but there must be at least one NUMA node, so returning NUMA node zero\n",
      "2023-06-13 16:50:21.935785: I tensorflow/stream_executor/cuda/cuda_gpu_executor.cc:980] successful NUMA node read from SysFS had negative value (-1), but there must be at least one NUMA node, so returning NUMA node zero\n",
      "2023-06-13 16:50:21.935960: I tensorflow/stream_executor/cuda/cuda_gpu_executor.cc:980] successful NUMA node read from SysFS had negative value (-1), but there must be at least one NUMA node, so returning NUMA node zero\n",
      "2023-06-13 16:50:21.936090: I tensorflow/core/common_runtime/gpu/gpu_device.cc:1616] Created device /job:localhost/replica:0/task:0/device:GPU:0 with 18801 MB memory:  -> device: 0, name: NVIDIA GeForce RTX 3090, pci bus id: 0000:22:00.0, compute capability: 8.6\n"
     ]
    },
    {
     "name": "stdout",
     "output_type": "stream",
     "text": [
      "37\n"
     ]
    },
    {
     "name": "stderr",
     "output_type": "stream",
     "text": [
      "2023-06-13 16:50:31.238863: I tensorflow/stream_executor/cuda/cuda_dnn.cc:384] Loaded cuDNN version 8500\n"
     ]
    },
    {
     "name": "stdout",
     "output_type": "stream",
     "text": [
      "\r",
      " 1/37 [..............................] - ETA: 2:12"
     ]
    },
    {
     "name": "stderr",
     "output_type": "stream",
     "text": [
      "2023-06-13 16:50:31.693087: I tensorflow/core/platform/default/subprocess.cc:304] Start cannot spawn child process: No such file or directory\n",
      "2023-06-13 16:50:31.740640: I tensorflow/stream_executor/cuda/cuda_blas.cc:1614] TensorFloat-32 will be used for the matrix multiplication. This will only be logged once.\n"
     ]
    },
    {
     "name": "stdout",
     "output_type": "stream",
     "text": [
      "37/37 [==============================] - 8s 112ms/step\n"
     ]
    }
   ],
   "source": [
    "import predictSpecies\n",
    "predresults = predictSpecies.predictSpecies(animals, class_model, batch = 4)"
   ]
  },
  {
   "cell_type": "code",
   "execution_count": 11,
   "id": "611ffe48",
   "metadata": {
    "scrolled": false
   },
   "outputs": [],
   "source": [
    "import parseResults\n",
    "animals = parseResults.applyPredictions(animals,predresults,classes, out_file = workingdir.predictions)"
   ]
  },
  {
   "cell_type": "code",
   "execution_count": 12,
   "id": "6c080776",
   "metadata": {},
   "outputs": [
    {
     "data": {
      "text/plain": [
       "Index(['FilePath', 'FileName', 'FileModifyDate', 'Frame', 'file',\n",
       "       'max_detection_conf', 'category', 'conf', 'bbox1', 'bbox2', 'bbox3',\n",
       "       'bbox4', 'prediction', 'confidence'],\n",
       "      dtype='object')"
      ]
     },
     "execution_count": 12,
     "metadata": {},
     "output_type": "execute_result"
    }
   ],
   "source": [
    "animals.columns"
   ]
  },
  {
   "cell_type": "code",
   "execution_count": 13,
   "id": "7822e71e",
   "metadata": {
    "scrolled": true
   },
   "outputs": [
    {
     "data": {
      "text/plain": [
       "Index(['FilePath', 'FileName', 'FileModifyDate', 'Frame', 'file',\n",
       "       'max_detection_conf', 'category', 'conf', 'bbox1', 'bbox2', 'bbox3',\n",
       "       'bbox4', 'prediction', 'confidence'],\n",
       "      dtype='object')"
      ]
     },
     "execution_count": 13,
     "metadata": {},
     "output_type": "execute_result"
    }
   ],
   "source": [
    "empty.columns"
   ]
  },
  {
   "cell_type": "code",
   "execution_count": 16,
   "id": "fe7a86bc",
   "metadata": {},
   "outputs": [],
   "source": [
    "manifest = pd.concat([animals,empty])"
   ]
  },
  {
   "cell_type": "code",
   "execution_count": 17,
   "id": "cc64e296",
   "metadata": {},
   "outputs": [
    {
     "data": {
      "text/html": [
       "<div>\n",
       "<style scoped>\n",
       "    .dataframe tbody tr th:only-of-type {\n",
       "        vertical-align: middle;\n",
       "    }\n",
       "\n",
       "    .dataframe tbody tr th {\n",
       "        vertical-align: top;\n",
       "    }\n",
       "\n",
       "    .dataframe thead th {\n",
       "        text-align: right;\n",
       "    }\n",
       "</style>\n",
       "<table border=\"1\" class=\"dataframe\">\n",
       "  <thead>\n",
       "    <tr style=\"text-align: right;\">\n",
       "      <th></th>\n",
       "      <th>FilePath</th>\n",
       "      <th>FileName</th>\n",
       "      <th>FileModifyDate</th>\n",
       "      <th>Frame</th>\n",
       "      <th>file</th>\n",
       "      <th>...</th>\n",
       "      <th>bbox2</th>\n",
       "      <th>bbox3</th>\n",
       "      <th>bbox4</th>\n",
       "      <th>prediction</th>\n",
       "      <th>confidence</th>\n",
       "    </tr>\n",
       "  </thead>\n",
       "  <tbody>\n",
       "    <tr>\n",
       "      <th>0</th>\n",
       "      <td>/home/kyra/animl-py/examples/Peru/S90/SDZG 2/E...</td>\n",
       "      <td>EK000026.JPG</td>\n",
       "      <td>2022-08-25 11:50:17</td>\n",
       "      <td>/home/kyra/animl-py/examples/Peru/S90/SDZG 2/E...</td>\n",
       "      <td>/home/kyra/animl-py/examples/Peru/S90/SDZG 2/E...</td>\n",
       "      <td>...</td>\n",
       "      <td>0.83980</td>\n",
       "      <td>0.02000</td>\n",
       "      <td>0.11190</td>\n",
       "      <td>human</td>\n",
       "      <td>0.043124</td>\n",
       "    </tr>\n",
       "    <tr>\n",
       "      <th>1</th>\n",
       "      <td>/home/kyra/animl-py/examples/Peru/S90/SDZG 2/E...</td>\n",
       "      <td>EK000026.JPG</td>\n",
       "      <td>2022-08-25 11:50:17</td>\n",
       "      <td>/home/kyra/animl-py/examples/Peru/S90/SDZG 2/E...</td>\n",
       "      <td>/home/kyra/animl-py/examples/Peru/S90/SDZG 2/E...</td>\n",
       "      <td>...</td>\n",
       "      <td>0.75240</td>\n",
       "      <td>0.13140</td>\n",
       "      <td>0.08741</td>\n",
       "      <td>bobcat</td>\n",
       "      <td>0.119125</td>\n",
       "    </tr>\n",
       "    <tr>\n",
       "      <th>2</th>\n",
       "      <td>/home/kyra/animl-py/examples/Peru/S90/SDZG 2/E...</td>\n",
       "      <td>EK000022.JPG</td>\n",
       "      <td>2022-08-25 11:50:17</td>\n",
       "      <td>/home/kyra/animl-py/examples/Peru/S90/SDZG 2/E...</td>\n",
       "      <td>/home/kyra/animl-py/examples/Peru/S90/SDZG 2/E...</td>\n",
       "      <td>...</td>\n",
       "      <td>0.45380</td>\n",
       "      <td>0.04197</td>\n",
       "      <td>0.03227</td>\n",
       "      <td>dog</td>\n",
       "      <td>0.011405</td>\n",
       "    </tr>\n",
       "    <tr>\n",
       "      <th>3</th>\n",
       "      <td>/home/kyra/animl-py/examples/Peru/S90/SDZG 2/E...</td>\n",
       "      <td>EK000036.JPG</td>\n",
       "      <td>2022-08-25 11:50:17</td>\n",
       "      <td>/home/kyra/animl-py/examples/Peru/S90/SDZG 2/E...</td>\n",
       "      <td>/home/kyra/animl-py/examples/Peru/S90/SDZG 2/E...</td>\n",
       "      <td>...</td>\n",
       "      <td>0.59470</td>\n",
       "      <td>0.14490</td>\n",
       "      <td>0.11390</td>\n",
       "      <td>cougar</td>\n",
       "      <td>0.004797</td>\n",
       "    </tr>\n",
       "    <tr>\n",
       "      <th>4</th>\n",
       "      <td>/home/kyra/animl-py/examples/Peru/S90/SDZG 2/E...</td>\n",
       "      <td>EK000036.JPG</td>\n",
       "      <td>2022-08-25 11:50:17</td>\n",
       "      <td>/home/kyra/animl-py/examples/Peru/S90/SDZG 2/E...</td>\n",
       "      <td>/home/kyra/animl-py/examples/Peru/S90/SDZG 2/E...</td>\n",
       "      <td>...</td>\n",
       "      <td>0.56200</td>\n",
       "      <td>0.04626</td>\n",
       "      <td>0.05147</td>\n",
       "      <td>empty</td>\n",
       "      <td>0.491225</td>\n",
       "    </tr>\n",
       "    <tr>\n",
       "      <th>...</th>\n",
       "      <td>...</td>\n",
       "      <td>...</td>\n",
       "      <td>...</td>\n",
       "      <td>...</td>\n",
       "      <td>...</td>\n",
       "      <td>...</td>\n",
       "      <td>...</td>\n",
       "      <td>...</td>\n",
       "      <td>...</td>\n",
       "      <td>...</td>\n",
       "      <td>...</td>\n",
       "    </tr>\n",
       "    <tr>\n",
       "      <th>10</th>\n",
       "      <td>/home/kyra/animl-py/examples/Peru/S90/SDZG 2/E...</td>\n",
       "      <td>EK000011.AVI</td>\n",
       "      <td>2022-08-25 11:50:17</td>\n",
       "      <td>/home/kyra/animl-py/examples/Peru/S90/SDZG 2/A...</td>\n",
       "      <td>/home/kyra/animl-py/examples/Peru/S90/SDZG 2/A...</td>\n",
       "      <td>...</td>\n",
       "      <td>0.02000</td>\n",
       "      <td>0.03281</td>\n",
       "      <td>0.28330</td>\n",
       "      <td>human</td>\n",
       "      <td>0.907000</td>\n",
       "    </tr>\n",
       "    <tr>\n",
       "      <th>11</th>\n",
       "      <td>/home/kyra/animl-py/examples/Peru/S90/SDZG 2/E...</td>\n",
       "      <td>EK000011.AVI</td>\n",
       "      <td>2022-08-25 11:50:17</td>\n",
       "      <td>/home/kyra/animl-py/examples/Peru/S90/SDZG 2/A...</td>\n",
       "      <td>/home/kyra/animl-py/examples/Peru/S90/SDZG 2/A...</td>\n",
       "      <td>...</td>\n",
       "      <td>0.02000</td>\n",
       "      <td>0.03750</td>\n",
       "      <td>0.17080</td>\n",
       "      <td>human</td>\n",
       "      <td>0.907000</td>\n",
       "    </tr>\n",
       "    <tr>\n",
       "      <th>12</th>\n",
       "      <td>/home/kyra/animl-py/examples/Peru/S90/SDZG 2/E...</td>\n",
       "      <td>EK000011.AVI</td>\n",
       "      <td>2022-08-25 11:50:17</td>\n",
       "      <td>/home/kyra/animl-py/examples/Peru/S90/SDZG 2/A...</td>\n",
       "      <td>/home/kyra/animl-py/examples/Peru/S90/SDZG 2/A...</td>\n",
       "      <td>...</td>\n",
       "      <td>0.02777</td>\n",
       "      <td>0.12730</td>\n",
       "      <td>0.26520</td>\n",
       "      <td>human</td>\n",
       "      <td>0.907000</td>\n",
       "    </tr>\n",
       "    <tr>\n",
       "      <th>13</th>\n",
       "      <td>/home/kyra/animl-py/examples/Peru/S90/SDZG 2/E...</td>\n",
       "      <td>EK000011.AVI</td>\n",
       "      <td>2022-08-25 11:50:17</td>\n",
       "      <td>/home/kyra/animl-py/examples/Peru/S90/SDZG 2/A...</td>\n",
       "      <td>/home/kyra/animl-py/examples/Peru/S90/SDZG 2/A...</td>\n",
       "      <td>...</td>\n",
       "      <td>0.02000</td>\n",
       "      <td>0.10390</td>\n",
       "      <td>0.31660</td>\n",
       "      <td>human</td>\n",
       "      <td>0.907000</td>\n",
       "    </tr>\n",
       "    <tr>\n",
       "      <th>14</th>\n",
       "      <td>/home/kyra/animl-py/examples/Peru/S90/SDZG 2/E...</td>\n",
       "      <td>EK000011.AVI</td>\n",
       "      <td>2022-08-25 11:50:17</td>\n",
       "      <td>/home/kyra/animl-py/examples/Peru/S90/SDZG 2/A...</td>\n",
       "      <td>/home/kyra/animl-py/examples/Peru/S90/SDZG 2/A...</td>\n",
       "      <td>...</td>\n",
       "      <td>0.02000</td>\n",
       "      <td>0.11480</td>\n",
       "      <td>0.29160</td>\n",
       "      <td>human</td>\n",
       "      <td>0.838000</td>\n",
       "    </tr>\n",
       "  </tbody>\n",
       "</table>\n",
       "<p>163 rows × 14 columns</p>\n",
       "</div>"
      ],
      "text/plain": [
       "                                             FilePath      FileName  \\\n",
       "0   /home/kyra/animl-py/examples/Peru/S90/SDZG 2/E...  EK000026.JPG   \n",
       "1   /home/kyra/animl-py/examples/Peru/S90/SDZG 2/E...  EK000026.JPG   \n",
       "2   /home/kyra/animl-py/examples/Peru/S90/SDZG 2/E...  EK000022.JPG   \n",
       "3   /home/kyra/animl-py/examples/Peru/S90/SDZG 2/E...  EK000036.JPG   \n",
       "4   /home/kyra/animl-py/examples/Peru/S90/SDZG 2/E...  EK000036.JPG   \n",
       "..                                                ...           ...   \n",
       "10  /home/kyra/animl-py/examples/Peru/S90/SDZG 2/E...  EK000011.AVI   \n",
       "11  /home/kyra/animl-py/examples/Peru/S90/SDZG 2/E...  EK000011.AVI   \n",
       "12  /home/kyra/animl-py/examples/Peru/S90/SDZG 2/E...  EK000011.AVI   \n",
       "13  /home/kyra/animl-py/examples/Peru/S90/SDZG 2/E...  EK000011.AVI   \n",
       "14  /home/kyra/animl-py/examples/Peru/S90/SDZG 2/E...  EK000011.AVI   \n",
       "\n",
       "         FileModifyDate                                              Frame  \\\n",
       "0   2022-08-25 11:50:17  /home/kyra/animl-py/examples/Peru/S90/SDZG 2/E...   \n",
       "1   2022-08-25 11:50:17  /home/kyra/animl-py/examples/Peru/S90/SDZG 2/E...   \n",
       "2   2022-08-25 11:50:17  /home/kyra/animl-py/examples/Peru/S90/SDZG 2/E...   \n",
       "3   2022-08-25 11:50:17  /home/kyra/animl-py/examples/Peru/S90/SDZG 2/E...   \n",
       "4   2022-08-25 11:50:17  /home/kyra/animl-py/examples/Peru/S90/SDZG 2/E...   \n",
       "..                  ...                                                ...   \n",
       "10  2022-08-25 11:50:17  /home/kyra/animl-py/examples/Peru/S90/SDZG 2/A...   \n",
       "11  2022-08-25 11:50:17  /home/kyra/animl-py/examples/Peru/S90/SDZG 2/A...   \n",
       "12  2022-08-25 11:50:17  /home/kyra/animl-py/examples/Peru/S90/SDZG 2/A...   \n",
       "13  2022-08-25 11:50:17  /home/kyra/animl-py/examples/Peru/S90/SDZG 2/A...   \n",
       "14  2022-08-25 11:50:17  /home/kyra/animl-py/examples/Peru/S90/SDZG 2/A...   \n",
       "\n",
       "                                                 file  ...    bbox2    bbox3  \\\n",
       "0   /home/kyra/animl-py/examples/Peru/S90/SDZG 2/E...  ...  0.83980  0.02000   \n",
       "1   /home/kyra/animl-py/examples/Peru/S90/SDZG 2/E...  ...  0.75240  0.13140   \n",
       "2   /home/kyra/animl-py/examples/Peru/S90/SDZG 2/E...  ...  0.45380  0.04197   \n",
       "3   /home/kyra/animl-py/examples/Peru/S90/SDZG 2/E...  ...  0.59470  0.14490   \n",
       "4   /home/kyra/animl-py/examples/Peru/S90/SDZG 2/E...  ...  0.56200  0.04626   \n",
       "..                                                ...  ...      ...      ...   \n",
       "10  /home/kyra/animl-py/examples/Peru/S90/SDZG 2/A...  ...  0.02000  0.03281   \n",
       "11  /home/kyra/animl-py/examples/Peru/S90/SDZG 2/A...  ...  0.02000  0.03750   \n",
       "12  /home/kyra/animl-py/examples/Peru/S90/SDZG 2/A...  ...  0.02777  0.12730   \n",
       "13  /home/kyra/animl-py/examples/Peru/S90/SDZG 2/A...  ...  0.02000  0.10390   \n",
       "14  /home/kyra/animl-py/examples/Peru/S90/SDZG 2/A...  ...  0.02000  0.11480   \n",
       "\n",
       "      bbox4  prediction  confidence  \n",
       "0   0.11190       human    0.043124  \n",
       "1   0.08741      bobcat    0.119125  \n",
       "2   0.03227         dog    0.011405  \n",
       "3   0.11390      cougar    0.004797  \n",
       "4   0.05147       empty    0.491225  \n",
       "..      ...         ...         ...  \n",
       "10  0.28330       human    0.907000  \n",
       "11  0.17080       human    0.907000  \n",
       "12  0.26520       human    0.907000  \n",
       "13  0.31660       human    0.907000  \n",
       "14  0.29160       human    0.838000  \n",
       "\n",
       "[163 rows x 14 columns]"
      ]
     },
     "execution_count": 17,
     "metadata": {},
     "output_type": "execute_result"
    }
   ],
   "source": [
    "manifest"
   ]
  },
  {
   "cell_type": "markdown",
   "id": "b0067909",
   "metadata": {},
   "source": []
  },
  {
   "cell_type": "code",
   "execution_count": null,
   "id": "e81356a0",
   "metadata": {},
   "outputs": [],
   "source": []
  }
 ],
 "metadata": {
  "kernelspec": {
   "display_name": "Python 3 (ipykernel)",
   "language": "python",
   "name": "python3"
  },
  "language_info": {
   "codemirror_mode": {
    "name": "ipython",
    "version": 3
   },
   "file_extension": ".py",
   "mimetype": "text/x-python",
   "name": "python",
   "nbconvert_exporter": "python",
   "pygments_lexer": "ipython3",
   "version": "3.11.4"
  }
 },
 "nbformat": 4,
 "nbformat_minor": 5
}

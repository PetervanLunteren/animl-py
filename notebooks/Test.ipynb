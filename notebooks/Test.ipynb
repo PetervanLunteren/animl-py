{
 "cells": [
  {
   "cell_type": "code",
   "execution_count": 2,
   "id": "27b05c13",
   "metadata": {},
   "outputs": [
    {
     "ename": "ModuleNotFoundError",
     "evalue": "No module named 'file_management'",
     "output_type": "error",
     "traceback": [
      "\u001b[0;31m---------------------------------------------------------------------------\u001b[0m",
      "\u001b[0;31mModuleNotFoundError\u001b[0m                       Traceback (most recent call last)",
      "Cell \u001b[0;32mIn[2], line 3\u001b[0m\n\u001b[1;32m      1\u001b[0m \u001b[38;5;28;01mimport\u001b[39;00m \u001b[38;5;21;01margparse\u001b[39;00m\n\u001b[1;32m      2\u001b[0m \u001b[38;5;28;01mimport\u001b[39;00m \u001b[38;5;21;01mpandas\u001b[39;00m \u001b[38;5;28;01mas\u001b[39;00m \u001b[38;5;21;01mpd\u001b[39;00m\n\u001b[0;32m----> 3\u001b[0m \u001b[38;5;28;01mimport\u001b[39;00m \u001b[38;5;21;01mfile_management\u001b[39;00m\n\u001b[1;32m      4\u001b[0m \u001b[38;5;28;01mimport\u001b[39;00m \u001b[38;5;21;01mvideoProcessing\u001b[39;00m\n\u001b[1;32m      5\u001b[0m \u001b[38;5;28;01mimport\u001b[39;00m \u001b[38;5;21;01mdetectMD\u001b[39;00m\n",
      "\u001b[0;31mModuleNotFoundError\u001b[0m: No module named 'file_management'"
     ]
    }
   ],
   "source": [
    "import argparse\n",
    "import pandas as pd\n",
    "import file_management\n",
    "import videoProcessing\n",
    "import detectMD\n",
    "import parseResults\n",
    "import splitData\n",
    "import predictSpecies\n",
    "\n",
    "def main(image_dir, model_file, class_model, class_list):\n",
    "    \"\"\"\n",
    "    This function is the main method to invoke all the sub functions\n",
    "    to create a working directory for the image directory.\n",
    "\n",
    "    Args:\n",
    "        image_dir (str): The directory path containing the images or videos.\n",
    "        model_file (str): The file path of the MegaDetector model.\n",
    "        class_model (str): The file path of the classifier model.\n",
    "        class_list (list): A list of classes or species for classification.\n",
    "\n",
    "    Returns:\n",
    "        pandas.DataFrame: Concatenated dataframe of animal and empty detections.\n",
    "    \"\"\"\n",
    "    print(\"Setting up working directory...\")\n",
    "    # Create a working directory, build the file manifest from img_dir\n",
    "    working_dir = file_management.WorkingDirectory(image_dir)\n",
    "    files = file_management.build_file_manifest(\n",
    "        image_dir, out_file=working_dir.filemanifest\n",
    "        )\n",
    "    print(\"Processing videos...\")\n",
    "    # Video-processing to extract individual frames as images in to directory\n",
    "    all_frames = videoProcessing.images_from_videos(\n",
    "        files, out_dir=working_dir.vidfdir,\n",
    "        out_file=working_dir.imageframes, parallel=True, frames=2\n",
    "        )\n",
    "    print(\"Running images and video frames through MegaDetector...\")\n",
    "    # Run all images and video frames through MegaDetector\n",
    "    md_results = detectMD.detect_MD_batch(\n",
    "        model_file, all_frames[\"Frame\"],\n",
    "        checkpoint_path=None, checkpoint_frequency=-1,\n",
    "        results=None, n_cores=1, quiet=True\n",
    "        )\n",
    "    print(\"Converting MD JSON to pd dataframe and merging with manifest...\")\n",
    "    # Convert MD JSON to pandas dataframe, merge with manifest\n",
    "    md_res = parseResults.parseMD(\n",
    "        md_results, manifest=all_frames, out_file=working_dir.mdresults\n",
    "        )\n",
    "    print(\"Extracting animal detections...\")\n",
    "    # Extract animal detections from the rest\n",
    "    animals = splitData.getAnimals(md_res)\n",
    "    empty = splitData.getEmpty(md_res)\n",
    "    print(\"Predicting species of animal detections...\")\n",
    "    # Use the classifier model to predict the species of animal detections\n",
    "    pred_results = predictSpecies.predictSpecies(animals, class_model, batch=4)\n",
    "    print(\"Applying predictions to animal detections...\")\n",
    "    animals = parseResults.applyPredictions(\n",
    "        animals, pred_results, class_list, out_file=working_dir.predictions\n",
    "        )\n",
    "    print(\"Concatenating animal and empty dataframes...\")\n",
    "    manifest = pd.concat([animals, empty])\n",
    "    manifest.to_csv(working_dir.results)\n",
    "    print(\"Final Results in \" + working_dir.results)"
   ]
  },
  {
   "cell_type": "code",
   "execution_count": 3,
   "id": "1125c9ce",
   "metadata": {},
   "outputs": [
    {
     "data": {
      "text/plain": [
       "'/home/kyra/animl-py/notebooks'"
      ]
     },
     "execution_count": 3,
     "metadata": {},
     "output_type": "execute_result"
    }
   ],
   "source": [
    "%pwd"
   ]
  },
  {
   "cell_type": "code",
   "execution_count": 3,
   "id": "472d0c50",
   "metadata": {},
   "outputs": [
    {
     "name": "stdout",
     "output_type": "stream",
     "text": [
      "Setting up working directory...\n"
     ]
    },
    {
     "ename": "NameError",
     "evalue": "name 'file_management' is not defined",
     "output_type": "error",
     "traceback": [
      "\u001b[0;31m---------------------------------------------------------------------------\u001b[0m",
      "\u001b[0;31mNameError\u001b[0m                                 Traceback (most recent call last)",
      "Cell \u001b[0;32mIn[3], line 1\u001b[0m\n\u001b[0;32m----> 1\u001b[0m main(\u001b[38;5;124m'\u001b[39m\u001b[38;5;124m/home/kyra/animl-py/examples/Southwest\u001b[39m\u001b[38;5;124m'\u001b[39m,\u001b[38;5;124m'\u001b[39m\u001b[38;5;124m/home/kyra/animl-py/models/md_v5a.0.0.pt\u001b[39m\u001b[38;5;124m'\u001b[39m,\n\u001b[1;32m      2\u001b[0m     \u001b[38;5;124m'\u001b[39m\u001b[38;5;124m/home/kyra/animl-py/models/southwest_v2.h5\u001b[39m\u001b[38;5;124m'\u001b[39m,\u001b[38;5;124m'\u001b[39m\u001b[38;5;124m/home/kyra/animl-py/models/southwest_classes.txt\u001b[39m\u001b[38;5;124m'\u001b[39m)\n",
      "Cell \u001b[0;32mIn[1], line 17\u001b[0m, in \u001b[0;36mmain\u001b[0;34m(image_dir, model_file, class_model, class_list)\u001b[0m\n\u001b[1;32m     15\u001b[0m \u001b[38;5;28mprint\u001b[39m(\u001b[38;5;124m\"\u001b[39m\u001b[38;5;124mSetting up working directory...\u001b[39m\u001b[38;5;124m\"\u001b[39m)\n\u001b[1;32m     16\u001b[0m \u001b[38;5;66;03m# Create a working directory, build the file manifest from img_dir\u001b[39;00m\n\u001b[0;32m---> 17\u001b[0m working_dir \u001b[38;5;241m=\u001b[39m file_management\u001b[38;5;241m.\u001b[39mWorkingDirectory(image_dir)\n\u001b[1;32m     18\u001b[0m files \u001b[38;5;241m=\u001b[39m file_management\u001b[38;5;241m.\u001b[39mbuild_file_manifest(\n\u001b[1;32m     19\u001b[0m     image_dir, out_file\u001b[38;5;241m=\u001b[39mworking_dir\u001b[38;5;241m.\u001b[39mfilemanifest\n\u001b[1;32m     20\u001b[0m     )\n\u001b[1;32m     21\u001b[0m \u001b[38;5;28mprint\u001b[39m(\u001b[38;5;124m\"\u001b[39m\u001b[38;5;124mProcessing videos...\u001b[39m\u001b[38;5;124m\"\u001b[39m)\n",
      "\u001b[0;31mNameError\u001b[0m: name 'file_management' is not defined"
     ]
    }
   ],
   "source": [
    "main('/home/kyra/animl-py/examples/Southwest','/home/kyra/animl-py/models/md_v5a.0.0.pt',\n",
    "    '/home/kyra/animl-py/models/southwest_v2.h5','/home/kyra/animl-py/models/southwest_classes.txt')"
   ]
  },
  {
   "cell_type": "code",
   "execution_count": null,
   "id": "740fe96f",
   "metadata": {},
   "outputs": [],
   "source": []
  }
 ],
 "metadata": {
  "kernelspec": {
   "display_name": "Python 3 (ipykernel)",
   "language": "python",
   "name": "python3"
  },
  "language_info": {
   "codemirror_mode": {
    "name": "ipython",
    "version": 3
   },
   "file_extension": ".py",
   "mimetype": "text/x-python",
   "name": "python",
   "nbconvert_exporter": "python",
   "pygments_lexer": "ipython3",
   "version": "3.11.5"
  }
 },
 "nbformat": 4,
 "nbformat_minor": 5
}

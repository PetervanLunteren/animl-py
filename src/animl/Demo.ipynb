{
 "cells": [
  {
   "cell_type": "markdown",
   "id": "ae0efa5f",
   "metadata": {},
   "source": [
    "<b> First, check to make sure MegaDetector is available.\n",
    "<br> CameraTraps, ai4eutils, and yolo5 must be included in the PYTHONPATH"
   ]
  },
  {
   "cell_type": "code",
   "execution_count": 1,
   "id": "6f6df57f",
   "metadata": {
    "scrolled": true
   },
   "outputs": [
    {
     "data": {
      "text/plain": [
       "['C:\\\\Users\\\\Kyra\\\\animl-py\\\\src\\\\animl',\n",
       " 'C:\\\\Users\\\\Kyra\\\\anaconda3\\\\python38.zip',\n",
       " 'C:\\\\Users\\\\Kyra\\\\anaconda3\\\\DLLs',\n",
       " 'C:\\\\Users\\\\Kyra\\\\anaconda3\\\\lib',\n",
       " 'C:\\\\Users\\\\Kyra\\\\anaconda3',\n",
       " '',\n",
       " 'C:\\\\Users\\\\Kyra\\\\anaconda3\\\\lib\\\\site-packages',\n",
       " 'C:\\\\Users\\\\Kyra\\\\anaconda3\\\\lib\\\\site-packages\\\\win32',\n",
       " 'C:\\\\Users\\\\Kyra\\\\anaconda3\\\\lib\\\\site-packages\\\\win32\\\\lib',\n",
       " 'C:\\\\Users\\\\Kyra\\\\anaconda3\\\\lib\\\\site-packages\\\\Pythonwin',\n",
       " 'C:\\\\Users\\\\Kyra\\\\anaconda3\\\\lib\\\\site-packages\\\\IPython\\\\extensions',\n",
       " 'C:\\\\Users\\\\Kyra\\\\.ipython']"
      ]
     },
     "execution_count": 1,
     "metadata": {},
     "output_type": "execute_result"
    }
   ],
   "source": [
    "import pandas as pd\n",
    "import sys\n",
    "sys.path"
   ]
  },
  {
   "cell_type": "markdown",
   "id": "f35b91e6",
   "metadata": {},
   "source": [
    "<b> Find file paths for the image directory of interest, both model files, and the classifier class list."
   ]
  },
  {
   "cell_type": "code",
   "execution_count": 1,
   "id": "a7729201",
   "metadata": {},
   "outputs": [],
   "source": [
    "imagedir = \"/home/kyra/animl-py/examples/Southwest\"\n",
    "model_file = \"/mnt/machinelearning/megaDetector/md_v5b.0.0.pt\"\n",
    "class_model = \"/mnt/machinelearning/Models/Southwest/2022/EfficientNetB5_456_Unfrozen_05_0.26_0.92.h5\"\n",
    "classes = \"/mnt/machinelearning/Models/Southwest/2022/classes.txt\""
   ]
  },
  {
   "cell_type": "code",
   "execution_count": 2,
   "id": "82e7cd96",
   "metadata": {},
   "outputs": [],
   "source": [
    "imagedir = \"C:\\\\Users\\\\Kyra\\\\animl-py\\\\examples\\\\Southwest\"\n",
    "model_file = \"Z:\\\\megaDetector\\\\md_v5b.0.0.pt\"\n",
    "class_model = \"Z:\\\\/Models\\\\Southwest\\\\2022\\\\EfficientNetB5_456_Unfrozen_05_0.26_0.92.h5\"\n",
    "classes = \"Z:\\\\Models\\\\Southwest\\\\2022\\\\classes.txt\""
   ]
  },
  {
   "cell_type": "markdown",
   "id": "1c77df57",
   "metadata": {},
   "source": [
    "<b> Create a working directory and build the file manifest from the image directory."
   ]
  },
  {
   "cell_type": "code",
   "execution_count": 3,
   "id": "a01ebce3",
   "metadata": {
    "scrolled": true
   },
   "outputs": [],
   "source": [
    "import fileManagement\n",
    "workingdir = fileManagement.WorkingDirectory(imagedir)"
   ]
  },
  {
   "cell_type": "code",
   "execution_count": 4,
   "id": "2d1ff898",
   "metadata": {
    "scrolled": true
   },
   "outputs": [
    {
     "name": "stdout",
     "output_type": "stream",
     "text": [
      "Output file already exists and was last modified 2023-07-07 12:02:30.916396,                  would you like to load it? y/n: y\n"
     ]
    }
   ],
   "source": [
    "files = fileManagement.build_file_manifest(imagedir, out_file = workingdir.filemanifest)"
   ]
  },
  {
   "cell_type": "markdown",
   "id": "6d824085",
   "metadata": {},
   "source": [
    "<b> If there are videos, save out individual frames to pass through models. "
   ]
  },
  {
   "cell_type": "code",
   "execution_count": 5,
   "id": "a486eef9",
   "metadata": {
    "scrolled": true
   },
   "outputs": [],
   "source": [
    "import videoProcessing\n",
    "allframes = videoProcessing.images_from_videos(files, out_dir=workingdir.vidfdir, \n",
    "                                               out_file=workingdir.imageframes, parallel = True, frames=2)"
   ]
  },
  {
   "cell_type": "code",
   "execution_count": 6,
   "id": "62e2afb0",
   "metadata": {},
   "outputs": [
    {
     "data": {
      "text/html": [
       "<div>\n",
       "<style scoped>\n",
       "    .dataframe tbody tr th:only-of-type {\n",
       "        vertical-align: middle;\n",
       "    }\n",
       "\n",
       "    .dataframe tbody tr th {\n",
       "        vertical-align: top;\n",
       "    }\n",
       "\n",
       "    .dataframe thead th {\n",
       "        text-align: right;\n",
       "    }\n",
       "</style>\n",
       "<table border=\"1\" class=\"dataframe\">\n",
       "  <thead>\n",
       "    <tr style=\"text-align: right;\">\n",
       "      <th></th>\n",
       "      <th>FilePath</th>\n",
       "      <th>FileName</th>\n",
       "      <th>FileModifyDate</th>\n",
       "      <th>Frame</th>\n",
       "    </tr>\n",
       "  </thead>\n",
       "  <tbody>\n",
       "    <tr>\n",
       "      <th>0</th>\n",
       "      <td>C:\\Users\\Kyra\\animl-py\\examples\\Southwest\\2021...</td>\n",
       "      <td>2021-05-28_SYFR0041.JPG</td>\n",
       "      <td>2023-07-07 11:05:11</td>\n",
       "      <td>C:\\Users\\Kyra\\animl-py\\examples\\Southwest\\2021...</td>\n",
       "    </tr>\n",
       "    <tr>\n",
       "      <th>1</th>\n",
       "      <td>C:\\Users\\Kyra\\animl-py\\examples\\Southwest\\2021...</td>\n",
       "      <td>2021-06-30_SYFR0218.JPG</td>\n",
       "      <td>2023-07-07 11:05:11</td>\n",
       "      <td>C:\\Users\\Kyra\\animl-py\\examples\\Southwest\\2021...</td>\n",
       "    </tr>\n",
       "    <tr>\n",
       "      <th>2</th>\n",
       "      <td>C:\\Users\\Kyra\\animl-py\\examples\\Southwest\\2021...</td>\n",
       "      <td>2021-07-24_SYFR0655.JPG</td>\n",
       "      <td>2023-07-07 11:05:11</td>\n",
       "      <td>C:\\Users\\Kyra\\animl-py\\examples\\Southwest\\2021...</td>\n",
       "    </tr>\n",
       "    <tr>\n",
       "      <th>3</th>\n",
       "      <td>C:\\Users\\Kyra\\animl-py\\examples\\Southwest\\2021...</td>\n",
       "      <td>2021-08-08_RCNX0063.JPG</td>\n",
       "      <td>2023-07-07 11:05:11</td>\n",
       "      <td>C:\\Users\\Kyra\\animl-py\\examples\\Southwest\\2021...</td>\n",
       "    </tr>\n",
       "    <tr>\n",
       "      <th>4</th>\n",
       "      <td>C:\\Users\\Kyra\\animl-py\\examples\\Southwest\\2021...</td>\n",
       "      <td>2021-11-11_11110007.JPG</td>\n",
       "      <td>2023-07-07 11:05:11</td>\n",
       "      <td>C:\\Users\\Kyra\\animl-py\\examples\\Southwest\\2021...</td>\n",
       "    </tr>\n",
       "    <tr>\n",
       "      <th>5</th>\n",
       "      <td>C:\\Users\\Kyra\\animl-py\\examples\\Southwest\\2021...</td>\n",
       "      <td>2021-11-14_11150025.JPG</td>\n",
       "      <td>2023-07-07 11:05:11</td>\n",
       "      <td>C:\\Users\\Kyra\\animl-py\\examples\\Southwest\\2021...</td>\n",
       "    </tr>\n",
       "    <tr>\n",
       "      <th>6</th>\n",
       "      <td>C:\\Users\\Kyra\\animl-py\\examples\\Southwest\\2021...</td>\n",
       "      <td>2021-12-07_12080069.JPG</td>\n",
       "      <td>2023-07-07 11:05:11</td>\n",
       "      <td>C:\\Users\\Kyra\\animl-py\\examples\\Southwest\\2021...</td>\n",
       "    </tr>\n",
       "    <tr>\n",
       "      <th>7</th>\n",
       "      <td>C:\\Users\\Kyra\\animl-py\\examples\\Southwest\\IMAG...</td>\n",
       "      <td>IMAG0004.JPG</td>\n",
       "      <td>2023-07-07 11:05:11</td>\n",
       "      <td>C:\\Users\\Kyra\\animl-py\\examples\\Southwest\\IMAG...</td>\n",
       "    </tr>\n",
       "    <tr>\n",
       "      <th>8</th>\n",
       "      <td>C:\\Users\\Kyra\\animl-py\\examples\\Southwest\\IMAG...</td>\n",
       "      <td>IMAG0031.JPG</td>\n",
       "      <td>2023-07-07 11:05:11</td>\n",
       "      <td>C:\\Users\\Kyra\\animl-py\\examples\\Southwest\\IMAG...</td>\n",
       "    </tr>\n",
       "    <tr>\n",
       "      <th>9</th>\n",
       "      <td>C:\\Users\\Kyra\\animl-py\\examples\\Southwest\\IMAG...</td>\n",
       "      <td>IMAG0046.JPG</td>\n",
       "      <td>2023-07-07 11:05:11</td>\n",
       "      <td>C:\\Users\\Kyra\\animl-py\\examples\\Southwest\\IMAG...</td>\n",
       "    </tr>\n",
       "    <tr>\n",
       "      <th>10</th>\n",
       "      <td>C:\\Users\\Kyra\\animl-py\\examples\\Southwest\\IMAG...</td>\n",
       "      <td>IMAG0104.JPG</td>\n",
       "      <td>2023-07-07 11:05:11</td>\n",
       "      <td>C:\\Users\\Kyra\\animl-py\\examples\\Southwest\\IMAG...</td>\n",
       "    </tr>\n",
       "    <tr>\n",
       "      <th>11</th>\n",
       "      <td>C:\\Users\\Kyra\\animl-py\\examples\\Southwest\\IMAG...</td>\n",
       "      <td>IMAG0107.JPG</td>\n",
       "      <td>2023-07-07 11:05:11</td>\n",
       "      <td>C:\\Users\\Kyra\\animl-py\\examples\\Southwest\\IMAG...</td>\n",
       "    </tr>\n",
       "    <tr>\n",
       "      <th>12</th>\n",
       "      <td>C:\\Users\\Kyra\\animl-py\\examples\\Southwest\\IMAG...</td>\n",
       "      <td>IMAG1065.JPG</td>\n",
       "      <td>2023-07-07 11:05:11</td>\n",
       "      <td>C:\\Users\\Kyra\\animl-py\\examples\\Southwest\\IMAG...</td>\n",
       "    </tr>\n",
       "  </tbody>\n",
       "</table>\n",
       "</div>"
      ],
      "text/plain": [
       "                                             FilePath  \\\n",
       "0   C:\\Users\\Kyra\\animl-py\\examples\\Southwest\\2021...   \n",
       "1   C:\\Users\\Kyra\\animl-py\\examples\\Southwest\\2021...   \n",
       "2   C:\\Users\\Kyra\\animl-py\\examples\\Southwest\\2021...   \n",
       "3   C:\\Users\\Kyra\\animl-py\\examples\\Southwest\\2021...   \n",
       "4   C:\\Users\\Kyra\\animl-py\\examples\\Southwest\\2021...   \n",
       "5   C:\\Users\\Kyra\\animl-py\\examples\\Southwest\\2021...   \n",
       "6   C:\\Users\\Kyra\\animl-py\\examples\\Southwest\\2021...   \n",
       "7   C:\\Users\\Kyra\\animl-py\\examples\\Southwest\\IMAG...   \n",
       "8   C:\\Users\\Kyra\\animl-py\\examples\\Southwest\\IMAG...   \n",
       "9   C:\\Users\\Kyra\\animl-py\\examples\\Southwest\\IMAG...   \n",
       "10  C:\\Users\\Kyra\\animl-py\\examples\\Southwest\\IMAG...   \n",
       "11  C:\\Users\\Kyra\\animl-py\\examples\\Southwest\\IMAG...   \n",
       "12  C:\\Users\\Kyra\\animl-py\\examples\\Southwest\\IMAG...   \n",
       "\n",
       "                   FileName       FileModifyDate  \\\n",
       "0   2021-05-28_SYFR0041.JPG  2023-07-07 11:05:11   \n",
       "1   2021-06-30_SYFR0218.JPG  2023-07-07 11:05:11   \n",
       "2   2021-07-24_SYFR0655.JPG  2023-07-07 11:05:11   \n",
       "3   2021-08-08_RCNX0063.JPG  2023-07-07 11:05:11   \n",
       "4   2021-11-11_11110007.JPG  2023-07-07 11:05:11   \n",
       "5   2021-11-14_11150025.JPG  2023-07-07 11:05:11   \n",
       "6   2021-12-07_12080069.JPG  2023-07-07 11:05:11   \n",
       "7              IMAG0004.JPG  2023-07-07 11:05:11   \n",
       "8              IMAG0031.JPG  2023-07-07 11:05:11   \n",
       "9              IMAG0046.JPG  2023-07-07 11:05:11   \n",
       "10             IMAG0104.JPG  2023-07-07 11:05:11   \n",
       "11             IMAG0107.JPG  2023-07-07 11:05:11   \n",
       "12             IMAG1065.JPG  2023-07-07 11:05:11   \n",
       "\n",
       "                                                Frame  \n",
       "0   C:\\Users\\Kyra\\animl-py\\examples\\Southwest\\2021...  \n",
       "1   C:\\Users\\Kyra\\animl-py\\examples\\Southwest\\2021...  \n",
       "2   C:\\Users\\Kyra\\animl-py\\examples\\Southwest\\2021...  \n",
       "3   C:\\Users\\Kyra\\animl-py\\examples\\Southwest\\2021...  \n",
       "4   C:\\Users\\Kyra\\animl-py\\examples\\Southwest\\2021...  \n",
       "5   C:\\Users\\Kyra\\animl-py\\examples\\Southwest\\2021...  \n",
       "6   C:\\Users\\Kyra\\animl-py\\examples\\Southwest\\2021...  \n",
       "7   C:\\Users\\Kyra\\animl-py\\examples\\Southwest\\IMAG...  \n",
       "8   C:\\Users\\Kyra\\animl-py\\examples\\Southwest\\IMAG...  \n",
       "9   C:\\Users\\Kyra\\animl-py\\examples\\Southwest\\IMAG...  \n",
       "10  C:\\Users\\Kyra\\animl-py\\examples\\Southwest\\IMAG...  \n",
       "11  C:\\Users\\Kyra\\animl-py\\examples\\Southwest\\IMAG...  \n",
       "12  C:\\Users\\Kyra\\animl-py\\examples\\Southwest\\IMAG...  "
      ]
     },
     "execution_count": 6,
     "metadata": {},
     "output_type": "execute_result"
    }
   ],
   "source": [
    "allframes"
   ]
  },
  {
   "cell_type": "markdown",
   "id": "a00170b3",
   "metadata": {},
   "source": [
    "<b> Run all images and video frames through MegaDetector"
   ]
  },
  {
   "cell_type": "code",
   "execution_count": 10,
   "id": "5fc874ac",
   "metadata": {
    "scrolled": false
   },
   "outputs": [
    {
     "ename": "ModuleNotFoundError",
     "evalue": "No module named 'detection'",
     "output_type": "error",
     "traceback": [
      "\u001b[1;31m---------------------------------------------------------------------------\u001b[0m",
      "\u001b[1;31mModuleNotFoundError\u001b[0m                       Traceback (most recent call last)",
      "\u001b[1;32m<ipython-input-10-0c5b9fe9e703>\u001b[0m in \u001b[0;36m<module>\u001b[1;34m\u001b[0m\n\u001b[1;32m----> 1\u001b[1;33m \u001b[1;32mimport\u001b[0m \u001b[0mdetectMD\u001b[0m\u001b[1;33m\u001b[0m\u001b[1;33m\u001b[0m\u001b[0m\n\u001b[0m\u001b[0;32m      2\u001b[0m mdresults = detectMD.detect_MD_batch(model_file, allframes[\"Frame\"], checkpoint_path=None,\n\u001b[0;32m      3\u001b[0m                                 checkpoint_frequency=-1, results=None, n_cores=1, quiet=True)\n",
      "\u001b[1;32m~\\animl-py\\src\\animl\\detectMD.py\u001b[0m in \u001b[0;36m<module>\u001b[1;34m\u001b[0m\n\u001b[0;32m      7\u001b[0m \u001b[1;32mimport\u001b[0m \u001b[0mpandas\u001b[0m \u001b[1;32mas\u001b[0m \u001b[0mpd\u001b[0m\u001b[1;33m\u001b[0m\u001b[1;33m\u001b[0m\u001b[0m\n\u001b[0;32m      8\u001b[0m \u001b[1;33m\u001b[0m\u001b[0m\n\u001b[1;32m----> 9\u001b[1;33m \u001b[1;32mfrom\u001b[0m \u001b[0mdetection\u001b[0m \u001b[1;32mimport\u001b[0m \u001b[0mrun_detector\u001b[0m\u001b[1;33m\u001b[0m\u001b[1;33m\u001b[0m\u001b[0m\n\u001b[0m\u001b[0;32m     10\u001b[0m \u001b[1;32mfrom\u001b[0m \u001b[0mdetection\u001b[0m \u001b[1;32mimport\u001b[0m \u001b[0mrun_detector_batch\u001b[0m\u001b[1;33m\u001b[0m\u001b[1;33m\u001b[0m\u001b[0m\n\u001b[0;32m     11\u001b[0m \u001b[1;33m\u001b[0m\u001b[0m\n",
      "\u001b[1;31mModuleNotFoundError\u001b[0m: No module named 'detection'"
     ]
    }
   ],
   "source": [
    "import detectMD\n",
    "mdresults = detectMD.detect_MD_batch(model_file, allframes[\"Frame\"], checkpoint_path=None,\n",
    "                                checkpoint_frequency=-1, results=None, n_cores=1, quiet=True)"
   ]
  },
  {
   "cell_type": "markdown",
   "id": "378510ec",
   "metadata": {},
   "source": [
    "<b> Convert MD JSON to pandas dataframe, merge with manifest."
   ]
  },
  {
   "cell_type": "code",
   "execution_count": 8,
   "id": "e3dd39ae",
   "metadata": {},
   "outputs": [
    {
     "name": "stdout",
     "output_type": "stream",
     "text": [
      "Output file already exists and was last modified 2023-06-12 15:40:13.456840,                  would you like to load it? y/n: y\n"
     ]
    }
   ],
   "source": [
    "import parseResults\n",
    "mdres = parseResults.parseMD(mdresults, manifest=allframes, out_file = workingdir.mdresults)"
   ]
  },
  {
   "cell_type": "markdown",
   "id": "f0f51777",
   "metadata": {},
   "source": [
    "<b> Extract animal detections from the rest."
   ]
  },
  {
   "cell_type": "code",
   "execution_count": 9,
   "id": "3d5396d6",
   "metadata": {},
   "outputs": [],
   "source": [
    "import splitData\n",
    "animals = splitData.getAnimals(mdres)\n",
    "empty = splitData.getEmpty(mdres)"
   ]
  },
  {
   "cell_type": "markdown",
   "id": "345eb95f",
   "metadata": {},
   "source": [
    "<b> Use the classifier model to predict the species of animal detections."
   ]
  },
  {
   "cell_type": "code",
   "execution_count": 10,
   "id": "4b0e0ab6",
   "metadata": {
    "scrolled": true
   },
   "outputs": [
    {
     "name": "stderr",
     "output_type": "stream",
     "text": [
      "2023-06-13 16:50:19.777936: I tensorflow/core/platform/cpu_feature_guard.cc:193] This TensorFlow binary is optimized with oneAPI Deep Neural Network Library (oneDNN) to use the following CPU instructions in performance-critical operations:  AVX2 FMA\n",
      "To enable them in other operations, rebuild TensorFlow with the appropriate compiler flags.\n",
      "2023-06-13 16:50:19.979417: E tensorflow/stream_executor/cuda/cuda_blas.cc:2981] Unable to register cuBLAS factory: Attempting to register factory for plugin cuBLAS when one has already been registered\n",
      "2023-06-13 16:50:20.558152: W tensorflow/stream_executor/platform/default/dso_loader.cc:64] Could not load dynamic library 'libnvinfer.so.7'; dlerror: libnvinfer.so.7: cannot open shared object file: No such file or directory\n",
      "2023-06-13 16:50:20.558219: W tensorflow/stream_executor/platform/default/dso_loader.cc:64] Could not load dynamic library 'libnvinfer_plugin.so.7'; dlerror: libnvinfer_plugin.so.7: cannot open shared object file: No such file or directory\n",
      "2023-06-13 16:50:20.558226: W tensorflow/compiler/tf2tensorrt/utils/py_utils.cc:38] TF-TRT Warning: Cannot dlopen some TensorRT libraries. If you would like to use Nvidia GPU with TensorRT, please make sure the missing libraries mentioned above are installed properly.\n",
      "2023-06-13 16:50:21.539841: I tensorflow/stream_executor/cuda/cuda_gpu_executor.cc:980] successful NUMA node read from SysFS had negative value (-1), but there must be at least one NUMA node, so returning NUMA node zero\n",
      "2023-06-13 16:50:21.540436: I tensorflow/stream_executor/cuda/cuda_gpu_executor.cc:980] successful NUMA node read from SysFS had negative value (-1), but there must be at least one NUMA node, so returning NUMA node zero\n",
      "2023-06-13 16:50:21.540602: I tensorflow/stream_executor/cuda/cuda_gpu_executor.cc:980] successful NUMA node read from SysFS had negative value (-1), but there must be at least one NUMA node, so returning NUMA node zero\n",
      "2023-06-13 16:50:21.540887: I tensorflow/core/platform/cpu_feature_guard.cc:193] This TensorFlow binary is optimized with oneAPI Deep Neural Network Library (oneDNN) to use the following CPU instructions in performance-critical operations:  AVX2 FMA\n",
      "To enable them in other operations, rebuild TensorFlow with the appropriate compiler flags.\n",
      "2023-06-13 16:50:21.541755: I tensorflow/stream_executor/cuda/cuda_gpu_executor.cc:980] successful NUMA node read from SysFS had negative value (-1), but there must be at least one NUMA node, so returning NUMA node zero\n",
      "2023-06-13 16:50:21.541931: I tensorflow/stream_executor/cuda/cuda_gpu_executor.cc:980] successful NUMA node read from SysFS had negative value (-1), but there must be at least one NUMA node, so returning NUMA node zero\n",
      "2023-06-13 16:50:21.542103: I tensorflow/stream_executor/cuda/cuda_gpu_executor.cc:980] successful NUMA node read from SysFS had negative value (-1), but there must be at least one NUMA node, so returning NUMA node zero\n",
      "2023-06-13 16:50:21.935564: I tensorflow/stream_executor/cuda/cuda_gpu_executor.cc:980] successful NUMA node read from SysFS had negative value (-1), but there must be at least one NUMA node, so returning NUMA node zero\n",
      "2023-06-13 16:50:21.935785: I tensorflow/stream_executor/cuda/cuda_gpu_executor.cc:980] successful NUMA node read from SysFS had negative value (-1), but there must be at least one NUMA node, so returning NUMA node zero\n",
      "2023-06-13 16:50:21.935960: I tensorflow/stream_executor/cuda/cuda_gpu_executor.cc:980] successful NUMA node read from SysFS had negative value (-1), but there must be at least one NUMA node, so returning NUMA node zero\n",
      "2023-06-13 16:50:21.936090: I tensorflow/core/common_runtime/gpu/gpu_device.cc:1616] Created device /job:localhost/replica:0/task:0/device:GPU:0 with 18801 MB memory:  -> device: 0, name: NVIDIA GeForce RTX 3090, pci bus id: 0000:22:00.0, compute capability: 8.6\n"
     ]
    },
    {
     "name": "stdout",
     "output_type": "stream",
     "text": [
      "37\n"
     ]
    },
    {
     "name": "stderr",
     "output_type": "stream",
     "text": [
      "2023-06-13 16:50:31.238863: I tensorflow/stream_executor/cuda/cuda_dnn.cc:384] Loaded cuDNN version 8500\n"
     ]
    },
    {
     "name": "stdout",
     "output_type": "stream",
     "text": [
      "\r",
      " 1/37 [..............................] - ETA: 2:12"
     ]
    },
    {
     "name": "stderr",
     "output_type": "stream",
     "text": [
      "2023-06-13 16:50:31.693087: I tensorflow/core/platform/default/subprocess.cc:304] Start cannot spawn child process: No such file or directory\n",
      "2023-06-13 16:50:31.740640: I tensorflow/stream_executor/cuda/cuda_blas.cc:1614] TensorFloat-32 will be used for the matrix multiplication. This will only be logged once.\n"
     ]
    },
    {
     "name": "stdout",
     "output_type": "stream",
     "text": [
      "37/37 [==============================] - 8s 112ms/step\n"
     ]
    }
   ],
   "source": [
    "import predictSpecies\n",
    "predresults = predictSpecies.predictSpecies(animals, class_model, batch = 4)"
   ]
  },
  {
   "cell_type": "code",
   "execution_count": 11,
   "id": "611ffe48",
   "metadata": {
    "scrolled": false
   },
   "outputs": [],
   "source": [
    "import parseResults\n",
    "animals = parseResults.applyPredictions(animals,predresults,classes, out_file = workingdir.predictions)"
   ]
  },
  {
   "cell_type": "code",
   "execution_count": 12,
   "id": "6c080776",
   "metadata": {},
   "outputs": [
    {
     "data": {
      "text/plain": [
       "Index(['FilePath', 'FileName', 'FileModifyDate', 'Frame', 'file',\n",
       "       'max_detection_conf', 'category', 'conf', 'bbox1', 'bbox2', 'bbox3',\n",
       "       'bbox4', 'prediction', 'confidence'],\n",
       "      dtype='object')"
      ]
     },
     "execution_count": 12,
     "metadata": {},
     "output_type": "execute_result"
    }
   ],
   "source": [
    "animals.columns"
   ]
  },
  {
   "cell_type": "code",
   "execution_count": 13,
   "id": "7822e71e",
   "metadata": {
    "scrolled": true
   },
   "outputs": [
    {
     "data": {
      "text/plain": [
       "Index(['FilePath', 'FileName', 'FileModifyDate', 'Frame', 'file',\n",
       "       'max_detection_conf', 'category', 'conf', 'bbox1', 'bbox2', 'bbox3',\n",
       "       'bbox4', 'prediction', 'confidence'],\n",
       "      dtype='object')"
      ]
     },
     "execution_count": 13,
     "metadata": {},
     "output_type": "execute_result"
    }
   ],
   "source": [
    "empty.columns"
   ]
  },
  {
   "cell_type": "code",
   "execution_count": 16,
   "id": "fe7a86bc",
   "metadata": {},
   "outputs": [],
   "source": [
    "manifest = pd.concat([animals,empty])"
   ]
  },
  {
   "cell_type": "code",
   "execution_count": 17,
   "id": "cc64e296",
   "metadata": {},
   "outputs": [
    {
     "data": {
      "text/html": [
       "<div>\n",
       "<style scoped>\n",
       "    .dataframe tbody tr th:only-of-type {\n",
       "        vertical-align: middle;\n",
       "    }\n",
       "\n",
       "    .dataframe tbody tr th {\n",
       "        vertical-align: top;\n",
       "    }\n",
       "\n",
       "    .dataframe thead th {\n",
       "        text-align: right;\n",
       "    }\n",
       "</style>\n",
       "<table border=\"1\" class=\"dataframe\">\n",
       "  <thead>\n",
       "    <tr style=\"text-align: right;\">\n",
       "      <th></th>\n",
       "      <th>FilePath</th>\n",
       "      <th>FileName</th>\n",
       "      <th>FileModifyDate</th>\n",
       "      <th>Frame</th>\n",
       "      <th>file</th>\n",
       "      <th>...</th>\n",
       "      <th>bbox2</th>\n",
       "      <th>bbox3</th>\n",
       "      <th>bbox4</th>\n",
       "      <th>prediction</th>\n",
       "      <th>confidence</th>\n",
       "    </tr>\n",
       "  </thead>\n",
       "  <tbody>\n",
       "    <tr>\n",
       "      <th>0</th>\n",
       "      <td>/home/kyra/animl-py/examples/Peru/S90/SDZG 2/E...</td>\n",
       "      <td>EK000026.JPG</td>\n",
       "      <td>2022-08-25 11:50:17</td>\n",
       "      <td>/home/kyra/animl-py/examples/Peru/S90/SDZG 2/E...</td>\n",
       "      <td>/home/kyra/animl-py/examples/Peru/S90/SDZG 2/E...</td>\n",
       "      <td>...</td>\n",
       "      <td>0.83980</td>\n",
       "      <td>0.02000</td>\n",
       "      <td>0.11190</td>\n",
       "      <td>human</td>\n",
       "      <td>0.043124</td>\n",
       "    </tr>\n",
       "    <tr>\n",
       "      <th>1</th>\n",
       "      <td>/home/kyra/animl-py/examples/Peru/S90/SDZG 2/E...</td>\n",
       "      <td>EK000026.JPG</td>\n",
       "      <td>2022-08-25 11:50:17</td>\n",
       "      <td>/home/kyra/animl-py/examples/Peru/S90/SDZG 2/E...</td>\n",
       "      <td>/home/kyra/animl-py/examples/Peru/S90/SDZG 2/E...</td>\n",
       "      <td>...</td>\n",
       "      <td>0.75240</td>\n",
       "      <td>0.13140</td>\n",
       "      <td>0.08741</td>\n",
       "      <td>bobcat</td>\n",
       "      <td>0.119125</td>\n",
       "    </tr>\n",
       "    <tr>\n",
       "      <th>2</th>\n",
       "      <td>/home/kyra/animl-py/examples/Peru/S90/SDZG 2/E...</td>\n",
       "      <td>EK000022.JPG</td>\n",
       "      <td>2022-08-25 11:50:17</td>\n",
       "      <td>/home/kyra/animl-py/examples/Peru/S90/SDZG 2/E...</td>\n",
       "      <td>/home/kyra/animl-py/examples/Peru/S90/SDZG 2/E...</td>\n",
       "      <td>...</td>\n",
       "      <td>0.45380</td>\n",
       "      <td>0.04197</td>\n",
       "      <td>0.03227</td>\n",
       "      <td>dog</td>\n",
       "      <td>0.011405</td>\n",
       "    </tr>\n",
       "    <tr>\n",
       "      <th>3</th>\n",
       "      <td>/home/kyra/animl-py/examples/Peru/S90/SDZG 2/E...</td>\n",
       "      <td>EK000036.JPG</td>\n",
       "      <td>2022-08-25 11:50:17</td>\n",
       "      <td>/home/kyra/animl-py/examples/Peru/S90/SDZG 2/E...</td>\n",
       "      <td>/home/kyra/animl-py/examples/Peru/S90/SDZG 2/E...</td>\n",
       "      <td>...</td>\n",
       "      <td>0.59470</td>\n",
       "      <td>0.14490</td>\n",
       "      <td>0.11390</td>\n",
       "      <td>cougar</td>\n",
       "      <td>0.004797</td>\n",
       "    </tr>\n",
       "    <tr>\n",
       "      <th>4</th>\n",
       "      <td>/home/kyra/animl-py/examples/Peru/S90/SDZG 2/E...</td>\n",
       "      <td>EK000036.JPG</td>\n",
       "      <td>2022-08-25 11:50:17</td>\n",
       "      <td>/home/kyra/animl-py/examples/Peru/S90/SDZG 2/E...</td>\n",
       "      <td>/home/kyra/animl-py/examples/Peru/S90/SDZG 2/E...</td>\n",
       "      <td>...</td>\n",
       "      <td>0.56200</td>\n",
       "      <td>0.04626</td>\n",
       "      <td>0.05147</td>\n",
       "      <td>empty</td>\n",
       "      <td>0.491225</td>\n",
       "    </tr>\n",
       "    <tr>\n",
       "      <th>...</th>\n",
       "      <td>...</td>\n",
       "      <td>...</td>\n",
       "      <td>...</td>\n",
       "      <td>...</td>\n",
       "      <td>...</td>\n",
       "      <td>...</td>\n",
       "      <td>...</td>\n",
       "      <td>...</td>\n",
       "      <td>...</td>\n",
       "      <td>...</td>\n",
       "      <td>...</td>\n",
       "    </tr>\n",
       "    <tr>\n",
       "      <th>10</th>\n",
       "      <td>/home/kyra/animl-py/examples/Peru/S90/SDZG 2/E...</td>\n",
       "      <td>EK000011.AVI</td>\n",
       "      <td>2022-08-25 11:50:17</td>\n",
       "      <td>/home/kyra/animl-py/examples/Peru/S90/SDZG 2/A...</td>\n",
       "      <td>/home/kyra/animl-py/examples/Peru/S90/SDZG 2/A...</td>\n",
       "      <td>...</td>\n",
       "      <td>0.02000</td>\n",
       "      <td>0.03281</td>\n",
       "      <td>0.28330</td>\n",
       "      <td>human</td>\n",
       "      <td>0.907000</td>\n",
       "    </tr>\n",
       "    <tr>\n",
       "      <th>11</th>\n",
       "      <td>/home/kyra/animl-py/examples/Peru/S90/SDZG 2/E...</td>\n",
       "      <td>EK000011.AVI</td>\n",
       "      <td>2022-08-25 11:50:17</td>\n",
       "      <td>/home/kyra/animl-py/examples/Peru/S90/SDZG 2/A...</td>\n",
       "      <td>/home/kyra/animl-py/examples/Peru/S90/SDZG 2/A...</td>\n",
       "      <td>...</td>\n",
       "      <td>0.02000</td>\n",
       "      <td>0.03750</td>\n",
       "      <td>0.17080</td>\n",
       "      <td>human</td>\n",
       "      <td>0.907000</td>\n",
       "    </tr>\n",
       "    <tr>\n",
       "      <th>12</th>\n",
       "      <td>/home/kyra/animl-py/examples/Peru/S90/SDZG 2/E...</td>\n",
       "      <td>EK000011.AVI</td>\n",
       "      <td>2022-08-25 11:50:17</td>\n",
       "      <td>/home/kyra/animl-py/examples/Peru/S90/SDZG 2/A...</td>\n",
       "      <td>/home/kyra/animl-py/examples/Peru/S90/SDZG 2/A...</td>\n",
       "      <td>...</td>\n",
       "      <td>0.02777</td>\n",
       "      <td>0.12730</td>\n",
       "      <td>0.26520</td>\n",
       "      <td>human</td>\n",
       "      <td>0.907000</td>\n",
       "    </tr>\n",
       "    <tr>\n",
       "      <th>13</th>\n",
       "      <td>/home/kyra/animl-py/examples/Peru/S90/SDZG 2/E...</td>\n",
       "      <td>EK000011.AVI</td>\n",
       "      <td>2022-08-25 11:50:17</td>\n",
       "      <td>/home/kyra/animl-py/examples/Peru/S90/SDZG 2/A...</td>\n",
       "      <td>/home/kyra/animl-py/examples/Peru/S90/SDZG 2/A...</td>\n",
       "      <td>...</td>\n",
       "      <td>0.02000</td>\n",
       "      <td>0.10390</td>\n",
       "      <td>0.31660</td>\n",
       "      <td>human</td>\n",
       "      <td>0.907000</td>\n",
       "    </tr>\n",
       "    <tr>\n",
       "      <th>14</th>\n",
       "      <td>/home/kyra/animl-py/examples/Peru/S90/SDZG 2/E...</td>\n",
       "      <td>EK000011.AVI</td>\n",
       "      <td>2022-08-25 11:50:17</td>\n",
       "      <td>/home/kyra/animl-py/examples/Peru/S90/SDZG 2/A...</td>\n",
       "      <td>/home/kyra/animl-py/examples/Peru/S90/SDZG 2/A...</td>\n",
       "      <td>...</td>\n",
       "      <td>0.02000</td>\n",
       "      <td>0.11480</td>\n",
       "      <td>0.29160</td>\n",
       "      <td>human</td>\n",
       "      <td>0.838000</td>\n",
       "    </tr>\n",
       "  </tbody>\n",
       "</table>\n",
       "<p>163 rows × 14 columns</p>\n",
       "</div>"
      ],
      "text/plain": [
       "                                             FilePath      FileName  \\\n",
       "0   /home/kyra/animl-py/examples/Peru/S90/SDZG 2/E...  EK000026.JPG   \n",
       "1   /home/kyra/animl-py/examples/Peru/S90/SDZG 2/E...  EK000026.JPG   \n",
       "2   /home/kyra/animl-py/examples/Peru/S90/SDZG 2/E...  EK000022.JPG   \n",
       "3   /home/kyra/animl-py/examples/Peru/S90/SDZG 2/E...  EK000036.JPG   \n",
       "4   /home/kyra/animl-py/examples/Peru/S90/SDZG 2/E...  EK000036.JPG   \n",
       "..                                                ...           ...   \n",
       "10  /home/kyra/animl-py/examples/Peru/S90/SDZG 2/E...  EK000011.AVI   \n",
       "11  /home/kyra/animl-py/examples/Peru/S90/SDZG 2/E...  EK000011.AVI   \n",
       "12  /home/kyra/animl-py/examples/Peru/S90/SDZG 2/E...  EK000011.AVI   \n",
       "13  /home/kyra/animl-py/examples/Peru/S90/SDZG 2/E...  EK000011.AVI   \n",
       "14  /home/kyra/animl-py/examples/Peru/S90/SDZG 2/E...  EK000011.AVI   \n",
       "\n",
       "         FileModifyDate                                              Frame  \\\n",
       "0   2022-08-25 11:50:17  /home/kyra/animl-py/examples/Peru/S90/SDZG 2/E...   \n",
       "1   2022-08-25 11:50:17  /home/kyra/animl-py/examples/Peru/S90/SDZG 2/E...   \n",
       "2   2022-08-25 11:50:17  /home/kyra/animl-py/examples/Peru/S90/SDZG 2/E...   \n",
       "3   2022-08-25 11:50:17  /home/kyra/animl-py/examples/Peru/S90/SDZG 2/E...   \n",
       "4   2022-08-25 11:50:17  /home/kyra/animl-py/examples/Peru/S90/SDZG 2/E...   \n",
       "..                  ...                                                ...   \n",
       "10  2022-08-25 11:50:17  /home/kyra/animl-py/examples/Peru/S90/SDZG 2/A...   \n",
       "11  2022-08-25 11:50:17  /home/kyra/animl-py/examples/Peru/S90/SDZG 2/A...   \n",
       "12  2022-08-25 11:50:17  /home/kyra/animl-py/examples/Peru/S90/SDZG 2/A...   \n",
       "13  2022-08-25 11:50:17  /home/kyra/animl-py/examples/Peru/S90/SDZG 2/A...   \n",
       "14  2022-08-25 11:50:17  /home/kyra/animl-py/examples/Peru/S90/SDZG 2/A...   \n",
       "\n",
       "                                                 file  ...    bbox2    bbox3  \\\n",
       "0   /home/kyra/animl-py/examples/Peru/S90/SDZG 2/E...  ...  0.83980  0.02000   \n",
       "1   /home/kyra/animl-py/examples/Peru/S90/SDZG 2/E...  ...  0.75240  0.13140   \n",
       "2   /home/kyra/animl-py/examples/Peru/S90/SDZG 2/E...  ...  0.45380  0.04197   \n",
       "3   /home/kyra/animl-py/examples/Peru/S90/SDZG 2/E...  ...  0.59470  0.14490   \n",
       "4   /home/kyra/animl-py/examples/Peru/S90/SDZG 2/E...  ...  0.56200  0.04626   \n",
       "..                                                ...  ...      ...      ...   \n",
       "10  /home/kyra/animl-py/examples/Peru/S90/SDZG 2/A...  ...  0.02000  0.03281   \n",
       "11  /home/kyra/animl-py/examples/Peru/S90/SDZG 2/A...  ...  0.02000  0.03750   \n",
       "12  /home/kyra/animl-py/examples/Peru/S90/SDZG 2/A...  ...  0.02777  0.12730   \n",
       "13  /home/kyra/animl-py/examples/Peru/S90/SDZG 2/A...  ...  0.02000  0.10390   \n",
       "14  /home/kyra/animl-py/examples/Peru/S90/SDZG 2/A...  ...  0.02000  0.11480   \n",
       "\n",
       "      bbox4  prediction  confidence  \n",
       "0   0.11190       human    0.043124  \n",
       "1   0.08741      bobcat    0.119125  \n",
       "2   0.03227         dog    0.011405  \n",
       "3   0.11390      cougar    0.004797  \n",
       "4   0.05147       empty    0.491225  \n",
       "..      ...         ...         ...  \n",
       "10  0.28330       human    0.907000  \n",
       "11  0.17080       human    0.907000  \n",
       "12  0.26520       human    0.907000  \n",
       "13  0.31660       human    0.907000  \n",
       "14  0.29160       human    0.838000  \n",
       "\n",
       "[163 rows x 14 columns]"
      ]
     },
     "execution_count": 17,
     "metadata": {},
     "output_type": "execute_result"
    }
   ],
   "source": [
    "manifest"
   ]
  },
  {
   "cell_type": "markdown",
   "id": "b0067909",
   "metadata": {},
   "source": []
  },
  {
   "cell_type": "code",
   "execution_count": null,
   "id": "e81356a0",
   "metadata": {},
   "outputs": [],
   "source": []
  }
 ],
 "metadata": {
  "kernelspec": {
   "display_name": "Python 3",
   "language": "python",
   "name": "python3"
  },
  "language_info": {
   "codemirror_mode": {
    "name": "ipython",
    "version": 3
   },
   "file_extension": ".py",
   "mimetype": "text/x-python",
   "name": "python",
   "nbconvert_exporter": "python",
   "pygments_lexer": "ipython3",
   "version": "3.8.5"
  }
 },
 "nbformat": 4,
 "nbformat_minor": 5
}

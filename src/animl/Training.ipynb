{
 "cells": [
  {
   "cell_type": "code",
   "execution_count": 84,
   "id": "27b05c13",
   "metadata": {},
   "outputs": [],
   "source": [
    "import pandas as pd\n",
    "import numpy as np\n",
    "from PIL import Image\n",
    "import torch"
   ]
  },
  {
   "cell_type": "code",
   "execution_count": 75,
   "id": "4be266c4",
   "metadata": {},
   "outputs": [],
   "source": [
    "from torch.utils.data import Dataset, DataLoader\n",
    "from torchvision.transforms import Compose, Resize, RandomHorizontalFlip, ToTensor"
   ]
  },
  {
   "cell_type": "code",
   "execution_count": 74,
   "id": "6dc7db54",
   "metadata": {},
   "outputs": [
    {
     "data": {
      "text/plain": [
       "device(type='cuda', index=0)"
      ]
     },
     "execution_count": 74,
     "metadata": {},
     "output_type": "execute_result"
    }
   ],
   "source": [
    "device = torch.device(\"cuda:0\" if torch.cuda.is_available() else \"cpu\")\n",
    "device"
   ]
  },
  {
   "cell_type": "code",
   "execution_count": 3,
   "id": "3385a265",
   "metadata": {},
   "outputs": [],
   "source": [
    "data = pd.read_csv(\"/mnt/machinelearning/Models/Cougar/trainingdata.csv\")"
   ]
  },
  {
   "cell_type": "code",
   "execution_count": 14,
   "id": "6f028b8e",
   "metadata": {},
   "outputs": [],
   "source": [
    "data = data.rename(columns={\"Unnamed: 0\": \"id\"})"
   ]
  },
  {
   "cell_type": "code",
   "execution_count": 15,
   "id": "7049c57a",
   "metadata": {
    "scrolled": false
   },
   "outputs": [
    {
     "data": {
      "text/html": [
       "<div>\n",
       "<style scoped>\n",
       "    .dataframe tbody tr th:only-of-type {\n",
       "        vertical-align: middle;\n",
       "    }\n",
       "\n",
       "    .dataframe tbody tr th {\n",
       "        vertical-align: top;\n",
       "    }\n",
       "\n",
       "    .dataframe thead th {\n",
       "        text-align: right;\n",
       "    }\n",
       "</style>\n",
       "<table border=\"1\" class=\"dataframe\">\n",
       "  <thead>\n",
       "    <tr style=\"text-align: right;\">\n",
       "      <th></th>\n",
       "      <th>id</th>\n",
       "      <th>FilePath</th>\n",
       "      <th>FileName</th>\n",
       "      <th>Directory</th>\n",
       "      <th>species</th>\n",
       "      <th>source</th>\n",
       "      <th>label</th>\n",
       "    </tr>\n",
       "  </thead>\n",
       "  <tbody>\n",
       "    <tr>\n",
       "      <th>0</th>\n",
       "      <td>1</td>\n",
       "      <td>/mnt/machinelearning/Training Data/cougar/BDR_...</td>\n",
       "      <td>BDR_02130037_b2.JPG</td>\n",
       "      <td>/mnt/machinelearning/Training Data/cougar</td>\n",
       "      <td>cougar</td>\n",
       "      <td>BDR</td>\n",
       "      <td>cougar</td>\n",
       "    </tr>\n",
       "    <tr>\n",
       "      <th>1</th>\n",
       "      <td>2</td>\n",
       "      <td>/mnt/machinelearning/Training Data/cougar/BDR_...</td>\n",
       "      <td>BDR_02130038_b2_small.MP4</td>\n",
       "      <td>/mnt/machinelearning/Training Data/cougar</td>\n",
       "      <td>cougar</td>\n",
       "      <td>BDR</td>\n",
       "      <td>cougar</td>\n",
       "    </tr>\n",
       "    <tr>\n",
       "      <th>2</th>\n",
       "      <td>3</td>\n",
       "      <td>/mnt/machinelearning/Training Data/cougar/BDR_...</td>\n",
       "      <td>BDR_02130038_b2.MP4</td>\n",
       "      <td>/mnt/machinelearning/Training Data/cougar</td>\n",
       "      <td>cougar</td>\n",
       "      <td>BDR</td>\n",
       "      <td>cougar</td>\n",
       "    </tr>\n",
       "    <tr>\n",
       "      <th>3</th>\n",
       "      <td>4</td>\n",
       "      <td>/mnt/machinelearning/Training Data/cougar/BDR_...</td>\n",
       "      <td>BDR_03270001_b3.JPG</td>\n",
       "      <td>/mnt/machinelearning/Training Data/cougar</td>\n",
       "      <td>cougar</td>\n",
       "      <td>BDR</td>\n",
       "      <td>cougar</td>\n",
       "    </tr>\n",
       "    <tr>\n",
       "      <th>4</th>\n",
       "      <td>5</td>\n",
       "      <td>/mnt/machinelearning/Training Data/cougar/BDR_...</td>\n",
       "      <td>BDR_03270002_b3.MP4</td>\n",
       "      <td>/mnt/machinelearning/Training Data/cougar</td>\n",
       "      <td>cougar</td>\n",
       "      <td>BDR</td>\n",
       "      <td>cougar</td>\n",
       "    </tr>\n",
       "    <tr>\n",
       "      <th>...</th>\n",
       "      <td>...</td>\n",
       "      <td>...</td>\n",
       "      <td>...</td>\n",
       "      <td>...</td>\n",
       "      <td>...</td>\n",
       "      <td>...</td>\n",
       "      <td>...</td>\n",
       "    </tr>\n",
       "    <tr>\n",
       "      <th>30951</th>\n",
       "      <td>30952</td>\n",
       "      <td>/mnt/machinelearning/Training Data/wolf/justin...</td>\n",
       "      <td>justin_IMG_0182.JPG</td>\n",
       "      <td>/mnt/machinelearning/Training Data/wolf</td>\n",
       "      <td>wolf</td>\n",
       "      <td>justin</td>\n",
       "      <td>non-cougar</td>\n",
       "    </tr>\n",
       "    <tr>\n",
       "      <th>30952</th>\n",
       "      <td>30953</td>\n",
       "      <td>/mnt/machinelearning/Training Data/wolf/justin...</td>\n",
       "      <td>justin_DSCF0539.JPG</td>\n",
       "      <td>/mnt/machinelearning/Training Data/wolf</td>\n",
       "      <td>wolf</td>\n",
       "      <td>justin</td>\n",
       "      <td>non-cougar</td>\n",
       "    </tr>\n",
       "    <tr>\n",
       "      <th>30953</th>\n",
       "      <td>30954</td>\n",
       "      <td>/mnt/machinelearning/Training Data/wolf/justin...</td>\n",
       "      <td>justin_MFDC0188.JPG</td>\n",
       "      <td>/mnt/machinelearning/Training Data/wolf</td>\n",
       "      <td>wolf</td>\n",
       "      <td>justin</td>\n",
       "      <td>non-cougar</td>\n",
       "    </tr>\n",
       "    <tr>\n",
       "      <th>30954</th>\n",
       "      <td>30955</td>\n",
       "      <td>/mnt/machinelearning/Training Data/wolf/justin...</td>\n",
       "      <td>justin_WGI_0566.JPG</td>\n",
       "      <td>/mnt/machinelearning/Training Data/wolf</td>\n",
       "      <td>wolf</td>\n",
       "      <td>justin</td>\n",
       "      <td>non-cougar</td>\n",
       "    </tr>\n",
       "    <tr>\n",
       "      <th>30955</th>\n",
       "      <td>30956</td>\n",
       "      <td>/mnt/machinelearning/Training Data/wolf/justin...</td>\n",
       "      <td>justin_PICT0407.JPG</td>\n",
       "      <td>/mnt/machinelearning/Training Data/wolf</td>\n",
       "      <td>wolf</td>\n",
       "      <td>justin</td>\n",
       "      <td>non-cougar</td>\n",
       "    </tr>\n",
       "  </tbody>\n",
       "</table>\n",
       "<p>30956 rows × 7 columns</p>\n",
       "</div>"
      ],
      "text/plain": [
       "          id                                           FilePath  \\\n",
       "0          1  /mnt/machinelearning/Training Data/cougar/BDR_...   \n",
       "1          2  /mnt/machinelearning/Training Data/cougar/BDR_...   \n",
       "2          3  /mnt/machinelearning/Training Data/cougar/BDR_...   \n",
       "3          4  /mnt/machinelearning/Training Data/cougar/BDR_...   \n",
       "4          5  /mnt/machinelearning/Training Data/cougar/BDR_...   \n",
       "...      ...                                                ...   \n",
       "30951  30952  /mnt/machinelearning/Training Data/wolf/justin...   \n",
       "30952  30953  /mnt/machinelearning/Training Data/wolf/justin...   \n",
       "30953  30954  /mnt/machinelearning/Training Data/wolf/justin...   \n",
       "30954  30955  /mnt/machinelearning/Training Data/wolf/justin...   \n",
       "30955  30956  /mnt/machinelearning/Training Data/wolf/justin...   \n",
       "\n",
       "                        FileName                                  Directory  \\\n",
       "0            BDR_02130037_b2.JPG  /mnt/machinelearning/Training Data/cougar   \n",
       "1      BDR_02130038_b2_small.MP4  /mnt/machinelearning/Training Data/cougar   \n",
       "2            BDR_02130038_b2.MP4  /mnt/machinelearning/Training Data/cougar   \n",
       "3            BDR_03270001_b3.JPG  /mnt/machinelearning/Training Data/cougar   \n",
       "4            BDR_03270002_b3.MP4  /mnt/machinelearning/Training Data/cougar   \n",
       "...                          ...                                        ...   \n",
       "30951        justin_IMG_0182.JPG    /mnt/machinelearning/Training Data/wolf   \n",
       "30952        justin_DSCF0539.JPG    /mnt/machinelearning/Training Data/wolf   \n",
       "30953        justin_MFDC0188.JPG    /mnt/machinelearning/Training Data/wolf   \n",
       "30954        justin_WGI_0566.JPG    /mnt/machinelearning/Training Data/wolf   \n",
       "30955        justin_PICT0407.JPG    /mnt/machinelearning/Training Data/wolf   \n",
       "\n",
       "      species  source       label  \n",
       "0      cougar     BDR      cougar  \n",
       "1      cougar     BDR      cougar  \n",
       "2      cougar     BDR      cougar  \n",
       "3      cougar     BDR      cougar  \n",
       "4      cougar     BDR      cougar  \n",
       "...       ...     ...         ...  \n",
       "30951    wolf  justin  non-cougar  \n",
       "30952    wolf  justin  non-cougar  \n",
       "30953    wolf  justin  non-cougar  \n",
       "30954    wolf  justin  non-cougar  \n",
       "30955    wolf  justin  non-cougar  \n",
       "\n",
       "[30956 rows x 7 columns]"
      ]
     },
     "execution_count": 15,
     "metadata": {},
     "output_type": "execute_result"
    }
   ],
   "source": [
    "data"
   ]
  },
  {
   "cell_type": "code",
   "execution_count": 25,
   "id": "45ba1364",
   "metadata": {},
   "outputs": [],
   "source": [
    "categories = ['noncougar','cougar']"
   ]
  },
  {
   "cell_type": "code",
   "execution_count": 31,
   "id": "befb1fd9",
   "metadata": {},
   "outputs": [
    {
     "data": {
      "text/plain": [
       "1"
      ]
     },
     "execution_count": 31,
     "metadata": {},
     "output_type": "execute_result"
    }
   ],
   "source": [
    "categories.index('cougar')"
   ]
  },
  {
   "cell_type": "code",
   "execution_count": 28,
   "id": "e667a36a",
   "metadata": {},
   "outputs": [
    {
     "name": "stdout",
     "output_type": "stream",
     "text": [
      "1 cougar\n",
      "0 noncougar\n"
     ]
    }
   ],
   "source": [
    "for idx,c in reversed(list(enumerate(categories))):\n",
    "    print(id,c)"
   ]
  },
  {
   "cell_type": "code",
   "execution_count": null,
   "id": "8c1d18f8",
   "metadata": {},
   "outputs": [],
   "source": [
    "print"
   ]
  },
  {
   "cell_type": "code",
   "execution_count": 32,
   "id": "afb48c02",
   "metadata": {},
   "outputs": [],
   "source": [
    "labels = dict([[c, idx] for idx, c in list(enumerate(categories))])"
   ]
  },
  {
   "cell_type": "code",
   "execution_count": 50,
   "id": "0149539b",
   "metadata": {
    "scrolled": true
   },
   "outputs": [
    {
     "data": {
      "text/plain": [
       "1"
      ]
     },
     "execution_count": 50,
     "metadata": {},
     "output_type": "execute_result"
    }
   ],
   "source": [
    "labels['cougar']"
   ]
  },
  {
   "cell_type": "code",
   "execution_count": 41,
   "id": "fffaacd8",
   "metadata": {},
   "outputs": [],
   "source": []
  },
  {
   "cell_type": "code",
   "execution_count": 60,
   "id": "dd65d5e8",
   "metadata": {},
   "outputs": [],
   "source": [
    "train_ds = TrainGenerator(data)\n",
    "\n",
    "img, label, name = train_ds[1]"
   ]
  },
  {
   "cell_type": "code",
   "execution_count": 70,
   "id": "d28785b9",
   "metadata": {},
   "outputs": [],
   "source": [
    "train = create_dataloader(data,32,8)"
   ]
  },
  {
   "cell_type": "code",
   "execution_count": 88,
   "id": "a843485d",
   "metadata": {},
   "outputs": [],
   "source": [
    "dataset_size = len(data)\n",
    "indices = list(range(dataset_size))\n",
    "validation_split = .2\n",
    "split = int(np.floor(validation_split * dataset_size))\n",
    "\n",
    "np.random.seed(254639)\n",
    "np.random.shuffle(indices)\n",
    "\n",
    "train_indices, val_indices = indices[split:], indices[:split]"
   ]
  },
  {
   "cell_type": "code",
   "execution_count": 96,
   "id": "e9389fbe",
   "metadata": {},
   "outputs": [],
   "source": [
    "train = data.iloc[train_indices]\n",
    "test = data.iloc[val_indices]"
   ]
  },
  {
   "cell_type": "code",
   "execution_count": 101,
   "id": "36b0273f",
   "metadata": {},
   "outputs": [
    {
     "data": {
      "text/plain": [
       "non-cougar    16227\n",
       "cougar         8538\n",
       "Name: label, dtype: int64"
      ]
     },
     "execution_count": 101,
     "metadata": {},
     "output_type": "execute_result"
    }
   ],
   "source": [
    "train[\"label\"].value_counts()"
   ]
  },
  {
   "cell_type": "code",
   "execution_count": 103,
   "id": "5eec7d02",
   "metadata": {},
   "outputs": [],
   "source": [
    "train.to_csv(\"/mnt/machinelearning/Models/Cougar/Experiments/Binary/train.csv\")"
   ]
  },
  {
   "cell_type": "code",
   "execution_count": 104,
   "id": "bcd3565a",
   "metadata": {},
   "outputs": [],
   "source": [
    "test.to_csv(\"/mnt/machinelearning/Models/Cougar/Experiments/Binary/test.csv\")"
   ]
  },
  {
   "cell_type": "code",
   "execution_count": null,
   "id": "26ab86f8",
   "metadata": {},
   "outputs": [],
   "source": []
  }
 ],
 "metadata": {
  "kernelspec": {
   "display_name": "Python 3 (ipykernel)",
   "language": "python",
   "name": "python3"
  },
  "language_info": {
   "codemirror_mode": {
    "name": "ipython",
    "version": 3
   },
   "file_extension": ".py",
   "mimetype": "text/x-python",
   "name": "python",
   "nbconvert_exporter": "python",
   "pygments_lexer": "ipython3",
   "version": "3.11.4"
  }
 },
 "nbformat": 4,
 "nbformat_minor": 5
}
